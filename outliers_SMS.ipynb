{
 "cells": [
  {
   "cell_type": "code",
   "execution_count": 359,
   "metadata": {},
   "outputs": [],
   "source": [
    "import pandas as pd\n",
    "from sklearn.ensemble import IsolationForest\n",
    "import numpy as np\n",
    "from sklearn.feature_extraction.text import TfidfTransformer\n",
    "from sklearn.decomposition import TruncatedSVD\n",
    "\n",
    "\n",
    "\n",
    "\n",
    "\n",
    "df = pd.read_csv('SMSSpamCollection.data', delimiter='\t',header=None, na_values='?')\n",
    "\n",
    "\n",
    "target = pd.DataFrame(df[0])\n",
    "target = target.replace('spam', 1)\n",
    "target = target.replace('ham', 0)\n",
    "target = target.rename(columns={0: \"spam\"})\n",
    "\n"
   ]
  },
  {
   "cell_type": "code",
   "execution_count": 360,
   "metadata": {},
   "outputs": [],
   "source": [
    "from sklearn.feature_extraction.text import CountVectorizer\n",
    "\n",
    "mf = 500\n",
    "vectorizer = CountVectorizer(max_features=mf)\n",
    "X = vectorizer.fit_transform(df[1])\n",
    "\n",
    "\n",
    "analyze = vectorizer.build_analyzer()\n",
    "X = X.toarray()\n",
    "X = pd.DataFrame(X)\n",
    "\n",
    "transformer = TfidfTransformer()\n",
    "X = pd.DataFrame(transformer.fit_transform(X).toarray())\n",
    "nc = 100\n",
    "\"\"\"\n",
    "svd = TruncatedSVD(n_components=nc, n_iter=10, random_state=42)\n",
    "svd.fit(X) \n",
    "SVD = pd.DataFrame(svd.transform(X))\n",
    "\"\"\"\n",
    "\n",
    "df = pd.concat([target,X], axis=1)\n",
    "\n",
    "ham = df[df['spam'] == 0].sample(frac=0.5)\n",
    "spam = df[df['spam'] == 1].sample(n=20)\n",
    "test = pd.DataFrame(pd.concat([ham,spam], axis=0)['spam'],columns=['spam'])\n",
    "ham.drop('spam', inplace=True, axis=1)\n",
    "spam.drop('spam', inplace=True, axis=1)\n",
    "\n",
    "train = pd.concat([ham,spam], axis=0)\n",
    "\n",
    "contamination = 20/len(train)\n",
    "ne = 1000\n",
    "\n"
   ]
  },
  {
   "cell_type": "code",
   "execution_count": 361,
   "metadata": {},
   "outputs": [],
   "source": [
    "clf = IsolationForest(n_estimators=ne, contamination=contamination, n_jobs=-1)\n",
    "clf.fit(train)\n",
    "prediction  = clf.predict(train)\n",
    "pred = (list(map(lambda x: int(x == -1), prediction)))\n",
    "\n"
   ]
  },
  {
   "cell_type": "code",
   "execution_count": 362,
   "metadata": {},
   "outputs": [
    {
     "data": {
      "image/png": "[encoded data removed]",
      "text/plain": [
       "<matplotlib.figure.Figure at 0x10d741b38>"
      ]
     },
     "metadata": {},
     "output_type": "display_data"
    }
   ],
   "source": [
    "from sklearn.metrics import confusion_matrix\n",
    "from sklearn.metrics import roc_curve\n",
    "\n",
    "tn, fp, fn, tp = confusion_matrix(np.array(test['spam']), pred).ravel()\n",
    "\n",
    "CM = pd.DataFrame([[tn, tp],[fn,fp]], index=['True', 'False'], columns=['neg', 'pos'])\n",
    "\n",
    "accuracy = tp/(tp + fp)\n",
    "recall = tp/ (tp +fn)\n",
    "sensibility = tn/(tn + fp)\n",
    "specificity = (recall)\n",
    "\n",
    "\n",
    "\n",
    "import matplotlib.pyplot as plt\n",
    "\n",
    "plt.plot([0,specificity,1],[1,sensibility,0])\n",
    "plt.show()"
   ]
  },
  {
   "cell_type": "code",
   "execution_count": 363,
   "metadata": {},
   "outputs": [
    {
     "data": {
      "text/html": [
       "<div>\n",
       "<style>\n",
       "    .dataframe thead tr:only-child th {\n",
       "        text-align: right;\n",
       "    }\n",
       "\n",
       "    .dataframe thead th {\n",
       "        text-align: left;\n",
       "    }\n",
       "\n",
       "    .dataframe tbody tr th {\n",
       "        vertical-align: top;\n",
       "    }\n",
       "</style>\n",
       "<table border=\"1\" class=\"dataframe\">\n",
       "  <thead>\n",
       "    <tr style=\"text-align: right;\">\n",
       "      <th></th>\n",
       "      <th>neg</th>\n",
       "      <th>pos</th>\n",
       "    </tr>\n",
       "  </thead>\n",
       "  <tbody>\n",
       "    <tr>\n",
       "      <th>True</th>\n",
       "      <td>2392</td>\n",
       "      <td>0</td>\n",
       "    </tr>\n",
       "    <tr>\n",
       "      <th>False</th>\n",
       "      <td>20</td>\n",
       "      <td>20</td>\n",
       "    </tr>\n",
       "  </tbody>\n",
       "</table>\n",
       "</div>"
      ],
      "text/plain": [
       "        neg  pos\n",
       "True   2392    0\n",
       "False    20   20"
      ]
     },
     "execution_count": 363,
     "metadata": {},
     "output_type": "execute_result"
    }
   ],
   "source": [
    "CM"
   ]
  },
  {
   "cell_type": "code",
   "execution_count": null,
   "metadata": {
    "collapsed": true
   },
   "outputs": [],
   "source": []
  },
  {
   "cell_type": "code",
   "execution_count": null,
   "metadata": {
    "collapsed": true
   },
   "outputs": [],
   "source": []
  },
  {
   "cell_type": "code",
   "execution_count": null,
   "metadata": {
    "collapsed": true
   },
   "outputs": [],
   "source": []
  },
  {
   "cell_type": "code",
   "execution_count": null,
   "metadata": {
    "collapsed": true
   },
   "outputs": [],
   "source": []
  },
  {
   "cell_type": "code",
   "execution_count": null,
   "metadata": {
    "collapsed": true
   },
   "outputs": [],
   "source": []
  }
 ],
 "metadata": {
  "kernelspec": {
   "display_name": "Python 3",
   "language": "python",
   "name": "python3"
  },
  "language_info": {
   "codemirror_mode": {
    "name": "ipython",
    "version": 3
   },
   "file_extension": ".py",
   "mimetype": "text/x-python",
   "name": "python",
   "nbconvert_exporter": "python",
   "pygments_lexer": "ipython3",
   "version": "3.6.0"
  }
 },
 "nbformat": 4,
 "nbformat_minor": 2
}
