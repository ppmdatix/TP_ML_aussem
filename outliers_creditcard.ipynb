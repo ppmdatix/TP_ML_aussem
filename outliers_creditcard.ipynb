{
 "cells": [
  {
   "cell_type": "markdown",
   "metadata": {},
   "source": [
    "On a bien aimé ce sujet !"
   ]
  },
  {
   "cell_type": "code",
   "execution_count": 1,
   "metadata": {
    "collapsed": true
   },
   "outputs": [],
   "source": [
    "import pandas as pd\n",
    "\n",
    "df = pd.read_csv('creditcard.csv')\n",
    "\n",
    "\n",
    "df.drop('Time', inplace=True, axis=1)"
   ]
  },
  {
   "cell_type": "code",
   "execution_count": 2,
   "metadata": {
    "collapsed": true
   },
   "outputs": [],
   "source": [
    "from sklearn.ensemble import IsolationForest\n",
    "\n",
    "true = df[df['Class'] == 0].sample(frac=0.01)\n",
    "fraude = df[df['Class'] == 1].sample(frac=.5)\n",
    "import numpy as np\n",
    "\n",
    "\n",
    "df = pd.concat([true, fraude])"
   ]
  },
  {
   "cell_type": "code",
   "execution_count": 3,
   "metadata": {
    "collapsed": true
   },
   "outputs": [],
   "source": [
    "df2 = df.drop('Class', axis=1)\n",
    "clf = IsolationForest(n_estimators=525, contamination=.08, n_jobs=-1)\n",
    "clf.fit(df2)\n",
    "prediction  = clf.predict(df2)"
   ]
  },
  {
   "cell_type": "code",
   "execution_count": 6,
   "metadata": {
    "collapsed": true
   },
   "outputs": [],
   "source": [
    "pred = (list(map(lambda x: int(x == -1), prediction)))\n",
    "\n",
    "from sklearn.metrics import confusion_matrix\n",
    "from sklearn.metrics import roc_curve\n",
    "tn, fp, fn, tp = confusion_matrix(np.array(df['Class']), pred).ravel()\n",
    "\n",
    "accuracy = tp/(tp + fp)\n",
    "recall = tp/ (tp +fn)\n",
    "sensibility = tn/(tn + fp)\n",
    "specificity = (recall)\n",
    "\n",
    "conf_matrix = pd.DataFrame([[tp,fp],[tn,fn]], columns=['True','False'], index=['Pos','Neg'])"
   ]
  },
  {
   "cell_type": "code",
   "execution_count": 7,
   "metadata": {},
   "outputs": [
    {
     "data": {
      "text/html": [
       "<div>\n",
       "<style>\n",
       "    .dataframe thead tr:only-child th {\n",
       "        text-align: right;\n",
       "    }\n",
       "\n",
       "    .dataframe thead th {\n",
       "        text-align: left;\n",
       "    }\n",
       "\n",
       "    .dataframe tbody tr th {\n",
       "        vertical-align: top;\n",
       "    }\n",
       "</style>\n",
       "<table border=\"1\" class=\"dataframe\">\n",
       "  <thead>\n",
       "    <tr style=\"text-align: right;\">\n",
       "      <th></th>\n",
       "      <th>True</th>\n",
       "      <th>False</th>\n",
       "    </tr>\n",
       "  </thead>\n",
       "  <tbody>\n",
       "    <tr>\n",
       "      <th>Pos</th>\n",
       "      <td>168</td>\n",
       "      <td>80</td>\n",
       "    </tr>\n",
       "    <tr>\n",
       "      <th>Neg</th>\n",
       "      <td>2763</td>\n",
       "      <td>78</td>\n",
       "    </tr>\n",
       "  </tbody>\n",
       "</table>\n",
       "</div>"
      ],
      "text/plain": [
       "     True  False\n",
       "Pos   168     80\n",
       "Neg  2763     78"
      ]
     },
     "execution_count": 7,
     "metadata": {},
     "output_type": "execute_result"
    }
   ],
   "source": [
    "conf_matrix"
   ]
  },
  {
   "cell_type": "code",
   "execution_count": 11,
   "metadata": {},
   "outputs": [
    {
     "data": {
      "image/png": "[encoded data removed]",
      "text/plain": [
       "<matplotlib.figure.Figure at 0x110534588>"
      ]
     },
     "metadata": {},
     "output_type": "display_data"
    }
   ],
   "source": [
    "import matplotlib.pyplot as plt\n",
    "\n",
    "plt.plot([0,specificity,1],[1,sensibility,0])\n",
    "plt.show()"
   ]
  },
  {
   "cell_type": "code",
   "execution_count": 79,
   "metadata": {},
   "outputs": [
    {
     "data": {
      "text/plain": [
       "0.92036257688572354"
      ]
     },
     "execution_count": 79,
     "metadata": {},
     "output_type": "execute_result"
    }
   ],
   "source": [
    "1-sum(df['Class'])/len(df)"
   ]
  },
  {
   "cell_type": "markdown",
   "metadata": {
    "collapsed": true
   },
   "source": [
    "Dans le cadre de la prediction de fraudes, si on detect une fraude qui n'en est pas une (Faux Positif) on peut se permettre ce genre d'erreur. Nous avons fixé le nombre de clients que l'on s'autorise à appeler (ou mail automatique) chaque jour grace au coefficient de contamination (parametre de IsolationForest).\n",
    "En revanche si l'on ne detecte pas une fraude (Faux négatif) cela est plus grave, la perte d'argent est nette.\n",
    "Ce qui est important est donc la spécificité (comme dans la détection de maladie)\n",
    "\n",
    "\n",
    "Comme on peut le voir sur la matrice de confusion, on a autant de Faux positif que de Faux négatif.\n",
    "\n",
    "On a une spécificité de 0.68, ce qui est correct.\n",
    "\n",
    "On a affiché la courbe ROC avec un seul point (le seul que l'on puisse avoir), le résultat est satisfaisant\n"
   ]
  },
  {
   "cell_type": "markdown",
   "metadata": {
    "collapsed": true
   },
   "source": [
    "La mise en place d'autres algorithmes peut être intéressante.\n",
    "Par exemple on peut réappliquer IsolationForest sur les Négatifs.\n",
    "\n",
    "L'idée est de trouver les positifs qui sont passés entre les mailles du filets.\n",
    "Ils sont sensés être d'autant plus détectables que les Vrais Positifs sont sortis du dataset par le premier Isolation Forest :"
   ]
  },
  {
   "cell_type": "code",
   "execution_count": 16,
   "metadata": {},
   "outputs": [],
   "source": []
  },
  {
   "cell_type": "code",
   "execution_count": 55,
   "metadata": {},
   "outputs": [],
   "source": [
    "df_sans_index = df.reset_index()"
   ]
  },
  {
   "cell_type": "code",
   "execution_count": 56,
   "metadata": {},
   "outputs": [],
   "source": [
    "df_pred = pd.concat([df_sans_index, pd.DataFrame(pred, columns=['pred'])],axis=1)"
   ]
  },
  {
   "cell_type": "code",
   "execution_count": 57,
   "metadata": {},
   "outputs": [],
   "source": [
    "df_pred.drop(\"index\", inplace=True, axis=1)"
   ]
  },
  {
   "cell_type": "code",
   "execution_count": 58,
   "metadata": {},
   "outputs": [],
   "source": [
    "df_bis = df_pred[df_pred['pred']==0]"
   ]
  },
  {
   "cell_type": "code",
   "execution_count": 59,
   "metadata": {
    "collapsed": true
   },
   "outputs": [],
   "source": [
    "df3 = df_bis.drop('Class', axis=1)\n",
    "clf = IsolationForest(n_estimators=525, contamination=.08, n_jobs=-1)\n",
    "clf.fit(df3)\n",
    "prediction_bis  = clf.predict(df3)"
   ]
  },
  {
   "cell_type": "code",
   "execution_count": 60,
   "metadata": {
    "collapsed": true
   },
   "outputs": [],
   "source": [
    "pred_bis = (list(map(lambda x: int(x == -1), prediction_bis)))\n",
    "\n",
    "from sklearn.metrics import confusion_matrix\n",
    "from sklearn.metrics import roc_curve\n",
    "tn, fp, fn, tp = confusion_matrix(np.array(df_bis['Class']), pred_bis).ravel()\n",
    "\n",
    "accuracy = tp/(tp + fp)\n",
    "recall = tp/ (tp +fn)\n",
    "sensibility = tn/(tn + fp)\n",
    "specificity = (recall)\n",
    "\n",
    "conf_matrix = pd.DataFrame([[tp,fp],[tn,fn]], columns=['True','False'], index=['Pos','Neg'])"
   ]
  },
  {
   "cell_type": "code",
   "execution_count": 61,
   "metadata": {},
   "outputs": [
    {
     "data": {
      "text/html": [
       "<div>\n",
       "<style>\n",
       "    .dataframe thead tr:only-child th {\n",
       "        text-align: right;\n",
       "    }\n",
       "\n",
       "    .dataframe thead th {\n",
       "        text-align: left;\n",
       "    }\n",
       "\n",
       "    .dataframe tbody tr th {\n",
       "        vertical-align: top;\n",
       "    }\n",
       "</style>\n",
       "<table border=\"1\" class=\"dataframe\">\n",
       "  <thead>\n",
       "    <tr style=\"text-align: right;\">\n",
       "      <th></th>\n",
       "      <th>True</th>\n",
       "      <th>False</th>\n",
       "    </tr>\n",
       "  </thead>\n",
       "  <tbody>\n",
       "    <tr>\n",
       "      <th>Pos</th>\n",
       "      <td>46</td>\n",
       "      <td>182</td>\n",
       "    </tr>\n",
       "    <tr>\n",
       "      <th>Neg</th>\n",
       "      <td>2581</td>\n",
       "      <td>32</td>\n",
       "    </tr>\n",
       "  </tbody>\n",
       "</table>\n",
       "</div>"
      ],
      "text/plain": [
       "     True  False\n",
       "Pos    46    182\n",
       "Neg  2581     32"
      ]
     },
     "execution_count": 61,
     "metadata": {},
     "output_type": "execute_result"
    }
   ],
   "source": [
    "conf_matrix"
   ]
  },
  {
   "cell_type": "markdown",
   "metadata": {},
   "source": [
    "Ainsi, on rappelle 182 personnes pour rien, mais on fait tomber les Faux négatifs (ceux qu'on souhaite absolument éviter, à 32"
   ]
  },
  {
   "cell_type": "markdown",
   "metadata": {},
   "source": [
    "On définit une fonction pour voir à quel point notre idée peut s'itérer\n",
    "\n",
    "Il est intéressant de voir que certains outliers ne sont quasiment pas détectables avec IsolationForest"
   ]
  },
  {
   "cell_type": "code",
   "execution_count": 85,
   "metadata": {
    "collapsed": true
   },
   "outputs": [],
   "source": [
    "def enzo(data=df):\n",
    "    etape = 0\n",
    "    pred = [0] * len(data)\n",
    "    \n",
    "    long = len(data)\n",
    "    \n",
    "    rappel = [0]\n",
    "    fns = [0]\n",
    "    while True:\n",
    "        etape += 1\n",
    "        data_sans_index = data.reset_index()\n",
    "        df_pred = pd.concat([data_sans_index, pd.DataFrame(pred, columns=['pred'])],axis=1)\n",
    "        df_pred.drop(\"index\", inplace=True, axis=1)\n",
    "        df_bis = df_pred[df_pred['pred']==0]\n",
    "        data = df_pred[df_pred['pred']==0].drop('pred', axis=1)\n",
    "        \n",
    "        _df = df_bis.drop('Class', axis=1)\n",
    "        clf = IsolationForest(n_estimators=525, contamination=.08, n_jobs=-1)\n",
    "        clf.fit(_df)\n",
    "        prediction  = clf.predict(_df)\n",
    "        pred = (list(map(lambda x: int(x == -1), prediction)))\n",
    "        from sklearn.metrics import confusion_matrix\n",
    "        from sklearn.metrics import roc_curve\n",
    "        tn, fp, fn, tp = confusion_matrix(np.array(df_bis['Class']), pred).ravel()\n",
    "        \n",
    "        \n",
    "        rappel.append(rappel[-1] + tp+fp)\n",
    "        fns.append(fn)\n",
    "        \n",
    "        conf_matrix = pd.DataFrame([[tp,fp],[tn,fn]], columns=['True','False'], index=['Pos','Neg'])\n",
    "        \n",
    "        print(conf_matrix)\n",
    "        print('----------------')\n",
    "        \n",
    "        if fn == 0:\n",
    "            break\n",
    "            \n",
    "    plt.plot(rappel,fns)\n",
    "    plt.show()\n",
    "    plt.close()\n",
    "    return [etape, rappel, fns]"
   ]
  },
  {
   "cell_type": "code",
   "execution_count": 86,
   "metadata": {
    "scrolled": true
   },
   "outputs": [
    {
     "name": "stdout",
     "output_type": "stream",
     "text": [
      "     True  False\n",
      "Pos   169     79\n",
      "Neg  2764     77\n",
      "----------------\n",
      "     True  False\n",
      "Pos    47    181\n",
      "Neg  2583     30\n",
      "----------------\n",
      "     True  False\n",
      "Pos     6    203\n",
      "Neg  2380     24\n",
      "----------------\n",
      "     True  False\n",
      "Pos     7    186\n",
      "Neg  2194     17\n",
      "----------------\n",
      "     True  False\n",
      "Pos     3    174\n",
      "Neg  2020     14\n",
      "----------------\n",
      "     True  False\n",
      "Pos     1    162\n",
      "Neg  1858     13\n",
      "----------------\n",
      "     True  False\n",
      "Pos     1    149\n",
      "Neg  1709     12\n",
      "----------------\n",
      "     True  False\n",
      "Pos     0    138\n",
      "Neg  1571     12\n",
      "----------------\n",
      "     True  False\n",
      "Pos     1    126\n",
      "Neg  1445     11\n",
      "----------------\n",
      "     True  False\n",
      "Pos     1    116\n",
      "Neg  1329     10\n",
      "----------------\n",
      "     True  False\n",
      "Pos     2    106\n",
      "Neg  1223      8\n",
      "----------------\n",
      "     True  False\n",
      "Pos     1     98\n",
      "Neg  1125      7\n",
      "----------------\n",
      "     True  False\n",
      "Pos     3     88\n",
      "Neg  1037      4\n",
      "----------------\n",
      "     True  False\n",
      "Pos     0     84\n",
      "Neg   953      4\n",
      "----------------\n",
      "     True  False\n",
      "Pos     0     77\n",
      "Neg   876      4\n",
      "----------------\n",
      "     True  False\n",
      "Pos     0     71\n",
      "Neg   805      4\n",
      "----------------\n",
      "     True  False\n",
      "Pos     0     65\n",
      "Neg   740      4\n",
      "----------------\n",
      "     True  False\n",
      "Pos     1     59\n",
      "Neg   681      3\n",
      "----------------\n",
      "     True  False\n",
      "Pos     0     55\n",
      "Neg   626      3\n",
      "----------------\n",
      "     True  False\n",
      "Pos     0     51\n",
      "Neg   575      3\n",
      "----------------\n",
      "     True  False\n",
      "Pos     0     47\n",
      "Neg   528      3\n",
      "----------------\n",
      "     True  False\n",
      "Pos     1     42\n",
      "Neg   486      2\n",
      "----------------\n",
      "     True  False\n",
      "Pos     1     38\n",
      "Neg   448      1\n",
      "----------------\n",
      "     True  False\n",
      "Pos     0     36\n",
      "Neg   412      1\n",
      "----------------\n",
      "     True  False\n",
      "Pos     0     33\n",
      "Neg   379      1\n",
      "----------------\n",
      "     True  False\n",
      "Pos     0     31\n",
      "Neg   348      1\n",
      "----------------\n",
      "     True  False\n",
      "Pos     0     28\n",
      "Neg   320      1\n",
      "----------------\n",
      "     True  False\n",
      "Pos     0     26\n",
      "Neg   294      1\n",
      "----------------\n",
      "     True  False\n",
      "Pos     0     24\n",
      "Neg   270      1\n",
      "----------------\n",
      "     True  False\n",
      "Pos     0     22\n",
      "Neg   248      1\n",
      "----------------\n",
      "     True  False\n",
      "Pos     0     20\n",
      "Neg   228      1\n",
      "----------------\n",
      "     True  False\n",
      "Pos     0     19\n",
      "Neg   209      1\n",
      "----------------\n",
      "     True  False\n",
      "Pos     0     17\n",
      "Neg   192      1\n",
      "----------------\n",
      "     True  False\n",
      "Pos     0     16\n",
      "Neg   176      1\n",
      "----------------\n",
      "     True  False\n",
      "Pos     0     15\n",
      "Neg   161      1\n",
      "----------------\n",
      "     True  False\n",
      "Pos     0     13\n",
      "Neg   148      1\n",
      "----------------\n",
      "     True  False\n",
      "Pos     0     12\n",
      "Neg   136      1\n",
      "----------------\n",
      "     True  False\n",
      "Pos     1     10\n",
      "Neg   126      0\n",
      "----------------\n"
     ]
    },
    {
     "data": {
      "image/png": "[encoded data removed]",
      "text/plain": [
       "<matplotlib.figure.Figure at 0x110534d68>"
      ]
     },
     "metadata": {},
     "output_type": "display_data"
    }
   ],
   "source": [
    "enz = enzo()"
   ]
  },
  {
   "cell_type": "code",
   "execution_count": 91,
   "metadata": {},
   "outputs": [
    {
     "data": {
      "image/png": "[encoded data removed]",
      "text/plain": [
       "<matplotlib.figure.Figure at 0x1115b8dd8>"
      ]
     },
     "metadata": {},
     "output_type": "display_data"
    },
    {
     "data": {
      "image/png": "[encoded data removed]",
      "text/plain": [
       "<matplotlib.figure.Figure at 0x111125cf8>"
      ]
     },
     "metadata": {},
     "output_type": "display_data"
    }
   ],
   "source": [
    "plt.plot(enz[1])\n",
    "plt.show()\n",
    "plt.close()\n",
    "plt.plot(enz[2][1:])\n",
    "plt.show()"
   ]
  },
  {
   "cell_type": "markdown",
   "metadata": {},
   "source": [
    "On affiche alors les deux courbes \n",
    "Celle du nombre de personnes rappelées et le nombre de faux négatif restant\n",
    "\n",
    "Les courbes obtenues sont super intéressantes."
   ]
  },
  {
   "cell_type": "code",
   "execution_count": null,
   "metadata": {
    "collapsed": true
   },
   "outputs": [],
   "source": []
  }
 ],
 "metadata": {
  "kernelspec": {
   "display_name": "Python 3",
   "language": "python",
   "name": "python3"
  },
  "language_info": {
   "codemirror_mode": {
    "name": "ipython",
    "version": 3
   },
   "file_extension": ".py",
   "mimetype": "text/x-python",
   "name": "python",
   "nbconvert_exporter": "python",
   "pygments_lexer": "ipython3",
   "version": "3.6.0"
  }
 },
 "nbformat": 4,
 "nbformat_minor": 2
}
