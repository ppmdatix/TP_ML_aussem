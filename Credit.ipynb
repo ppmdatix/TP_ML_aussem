{
 "cells": [
  {
   "cell_type": "code",
   "execution_count": 2,
   "metadata": {
    "collapsed": true
   },
   "outputs": [],
   "source": [
    "import pandas as pd\n",
    "import numpy as np\n",
    "import sklearn\n",
    "\n",
    "import matplotlib \n",
    "import matplotlib.pyplot as plt\n",
    "\n",
    "from sklearn import metrics\n",
    "from sklearn.model_selection import cross_val_score\n",
    "from sklearn.metrics import average_precision_score\n",
    "\n",
    "from sklearn.naive_bayes import GaussianNB\n",
    "from sklearn import tree\n",
    "from sklearn.ensemble import GradientBoostingClassifier\n",
    "from sklearn.neural_network import MLPClassifier\n",
    "from sklearn.neighbors import NearestNeighbors\n",
    "from sklearn.neighbors import KNeighborsClassifier\n",
    "from sklearn.model_selection import train_test_split\n",
    "from sklearn.model_selection import KFold\n",
    "from sklearn.ensemble import BaggingClassifier\n",
    "from sklearn.ensemble import AdaBoostClassifier\n",
    "from sklearn.ensemble import RandomForestClassifier\n",
    "from sklearn.preprocessing import StandardScaler\n",
    "from sklearn.preprocessing import MinMaxScaler\n",
    "from sklearn.preprocessing import OneHotEncoder\n",
    "from sklearn.decomposition import PCA\n",
    "from sklearn.datasets import make_classification\n",
    "from sklearn.ensemble import ExtraTreesClassifier\n",
    "from sklearn.ensemble import RandomForestRegressor\n",
    "from sklearn.preprocessing import Imputer\n",
    "\n",
    "import time\n",
    "from operator import itemgetter\n",
    "\n"
   ]
  },
  {
   "cell_type": "code",
   "execution_count": 3,
   "metadata": {
    "collapsed": true
   },
   "outputs": [],
   "source": [
    "path = 'credit.data'\n",
    "data = pd.read_csv(path, delimiter='\t',header=None, na_values='?')\n",
    "##data = pd.DataFrame(data)\n",
    "data = data.dropna(axis=0, how='any')\n",
    "cible = data[15]##.values.reshape(-1,1)\n",
    "###cible  = pd.DataFrame(data=cible)\n",
    "cible = cible.replace(to_replace='+', value=1)\n",
    "cible = cible.replace(to_replace='-', value=0)\n",
    "data = data.drop(15, axis=1)\n",
    "sous_ensemble = data[[1,2,7,13,14]]\n",
    "sous_ensemble = sous_ensemble.astype(float)\n",
    "\n",
    "\n",
    "\n",
    "path = 'credit.data'\n",
    "data = pd.read_csv(path, delimiter='\t',header=None, na_values='?')\n",
    "data_num = data[[1,2,7,13,14]]\n",
    "data_cat = data[[3,4,5,6,8,9,10,11,12]]\n",
    "data_cat = data_cat.astype(str)\n",
    "cible_final = data[15]\n",
    "cible_final = cible_final.replace(to_replace='+', value=1)\n",
    "cible_final = cible_final.replace(to_replace='-', value=0)\n",
    "\n",
    "\n",
    "\n",
    "\n",
    "gnb = GaussianNB()\n",
    "\n",
    "\n",
    "X_train, X_test, y_train, y_test = train_test_split(sous_ensemble, \n",
    "                                                    cible, \n",
    "                                                    test_size=0.2, \n",
    "                                                    random_state=42)"
   ]
  },
  {
   "cell_type": "code",
   "execution_count": 4,
   "metadata": {},
   "outputs": [
    {
     "data": {
      "text/plain": [
       "(653, 5)"
      ]
     },
     "execution_count": 4,
     "metadata": {},
     "output_type": "execute_result"
    }
   ],
   "source": [
    "sous_ensemble.shape"
   ]
  },
  {
   "cell_type": "code",
   "execution_count": 5,
   "metadata": {},
   "outputs": [
    {
     "data": {
      "image/png": "[encoded data removed]",
      "text/plain": [
       "<matplotlib.figure.Figure at 0x10b49e588>"
      ]
     },
     "metadata": {},
     "output_type": "display_data"
    }
   ],
   "source": [
    "\n",
    "labels = ['+', '-']\n",
    "plt.pie([sum(cible), (len(cible)- sum(cible))], labels=labels)\n",
    "plt.show()"
   ]
  },
  {
   "cell_type": "markdown",
   "metadata": {
    "collapsed": true
   },
   "source": [
    "On affiche ici la proportion de + et de - dans nos données"
   ]
  },
  {
   "cell_type": "markdown",
   "metadata": {},
   "source": [
    "# ROC"
   ]
  },
  {
   "cell_type": "code",
   "execution_count": 5,
   "metadata": {
    "collapsed": true
   },
   "outputs": [],
   "source": [
    "def TP(theta,pred,result):\n",
    "    count = 0\n",
    "    i = 0\n",
    "    for x in (result):\n",
    "        if pred[i][1] > theta and x == 1:\n",
    "            count += 1\n",
    "        i += 1\n",
    "    return count\n",
    "\n",
    "\n",
    "def FP(theta,pred,result):\n",
    "    count = 0\n",
    "    i = 0\n",
    "    for x in (result):\n",
    "        if pred[i][1] >= theta and x == 0:\n",
    "            count += 1\n",
    "        i += 1\n",
    "    return count\n",
    "\n",
    "\n",
    "def TN(theta,pred,result):\n",
    "    count = 0\n",
    "    i = 0\n",
    "    for x in (result):\n",
    "        if pred[i][1] < theta and x == 0:\n",
    "            count += 1\n",
    "        i += 1\n",
    "    return count\n",
    "\n",
    "\n",
    "def FN(theta,pred,result):\n",
    "    count = 0\n",
    "    i = 0\n",
    "    for x in (result):\n",
    "        if pred[i][1] < theta and x == 1:\n",
    "            count += 1\n",
    "        i += 1\n",
    "    return count\n",
    "\n",
    "\n",
    "class ROC_curves:\n",
    "    def __init__(self,\n",
    "                 pred=sous_ensemble,\n",
    "                 res=cible,\n",
    "                 gran = 101):\n",
    "        x = []\n",
    "        y = []\n",
    "        for j in range(0,gran):\n",
    "            tn = TN(j/(gran-1),pred,res)\n",
    "            neg = tn + FP(j/(gran-1),pred,res)\n",
    "            tp = TP(j/(gran-1),pred,res)\n",
    "            pos = tp + FN(j/(gran-1),pred,res)\n",
    "\n",
    "            if neg == 0:\n",
    "                x.append(0)\n",
    "            else:\n",
    "                x.append(tn / neg)\n",
    "            if pos == 0:\n",
    "                y.append(0)\n",
    "            else:\n",
    "                y.append(tp / pos)\n",
    "      \n",
    "        self.rocx = x\n",
    "        self.rocy = y\n",
    "    def plot_it(self):\n",
    "        plt.plot(self.rocx,self.rocy)\n",
    "        plt.show()"
   ]
  },
  {
   "cell_type": "markdown",
   "metadata": {},
   "source": [
    "# Qualité"
   ]
  },
  {
   "cell_type": "code",
   "execution_count": 6,
   "metadata": {
    "collapsed": true
   },
   "outputs": [],
   "source": [
    "class Qualite:\n",
    "    def __init__(self, \n",
    "                   _modele=gnb, \n",
    "                   _data=sous_ensemble, \n",
    "                   _y=cible, \n",
    "                   _y_pred=cible,\n",
    "                   _y_pred_proba=cible,\n",
    "                   _cv=10,\n",
    "                   _print_mode=True):\n",
    "        \n",
    "        self.accuracy = sklearn.metrics.accuracy_score(_y, _y_pred)\n",
    "        self.AUC = sklearn.metrics.roc_auc_score(_y, _y_pred)\n",
    "        self.cross_validation = cross_val_score(_modele, _data, y=_y, cv=_cv)\n",
    "        self.moyenne = np.mean(self.cross_validation)\n",
    "        self.ecart_type = np.std(self.cross_validation)\n",
    "        self.precision = average_precision_score(_y, _y_pred)\n",
    "        \n",
    "        self.roc = ROC_curves(pred=_y_pred_proba, res=_y)\n",
    "        \n",
    "        \n",
    "        if _print_mode:\n",
    "            self.roc.plot_it()"
   ]
  },
  {
   "cell_type": "markdown",
   "metadata": {},
   "source": [
    "# Apprentissage"
   ]
  },
  {
   "cell_type": "code",
   "execution_count": 7,
   "metadata": {
    "collapsed": true
   },
   "outputs": [],
   "source": [
    "def algo_apprentissage(mod=GaussianNB(),\n",
    "                           data=sous_ensemble,\n",
    "                           target=cible,\n",
    "                           print_mode=True,\n",
    "                           cv=10):\n",
    "    X_train, X_test, y_train, y_test = train_test_split(data, \n",
    "                                                    target, \n",
    "                                                    test_size=0.2, \n",
    "                                                    random_state=42)\n",
    "    result = dict()\n",
    "    mod_fit = mod.fit(X_train, y_train)\n",
    "    y_prediction_proba = mod_fit.predict_proba(X_test)\n",
    "    y_prediction = mod_fit.predict(X_test)\n",
    "    q_mod = Qualite(_modele=mod,\n",
    "                 _data=X_test,\n",
    "                 _y=y_test,\n",
    "                 _y_pred=y_prediction,\n",
    "                 _y_pred_proba=y_prediction_proba,\n",
    "                 _print_mode=print_mode,\n",
    "                 _cv=cv)\n",
    "    \n",
    "    result['y_prediction_proba'] = y_prediction_proba\n",
    "    result['y_prediction'] = y_prediction\n",
    "    result['q_mod'] = q_mod\n",
    "    \n",
    "    if print_mode:\n",
    "        print('La précision est ' + str(q_mod.accuracy))\n",
    "        print('')\n",
    "        print('L\\'AUC est ' + str(q_mod.AUC))\n",
    "        print('')\n",
    "        print('Le score moyen par ' + str(cv) + ' cross-validation est ' + str(q_mod.moyenne))\n",
    "    \n",
    "    return result"
   ]
  },
  {
   "cell_type": "markdown",
   "metadata": {},
   "source": [
    "# NaiveBayesSimple"
   ]
  },
  {
   "cell_type": "code",
   "execution_count": 8,
   "metadata": {},
   "outputs": [
    {
     "data": {
      "image/png": "[encoded data removed]",
      "text/plain": [
       "<matplotlib.figure.Figure at 0x10f62bf60>"
      ]
     },
     "metadata": {},
     "output_type": "display_data"
    },
    {
     "name": "stdout",
     "output_type": "stream",
     "text": [
      "La précision est 0.740458015267\n",
      "\n",
      "L'AUC est 0.700956937799\n",
      "\n",
      "Le score moyen par 10 cross-validation est 0.745879120879\n"
     ]
    }
   ],
   "source": [
    "GNB = GaussianNB()\n",
    "gnb = algo_apprentissage(GNB)"
   ]
  },
  {
   "cell_type": "markdown",
   "metadata": {},
   "source": [
    "# Arbre CART"
   ]
  },
  {
   "cell_type": "code",
   "execution_count": 9,
   "metadata": {},
   "outputs": [
    {
     "data": {
      "image/png": "[encoded data removed]",
      "text/plain": [
       "<matplotlib.figure.Figure at 0x1a1ea8aef0>"
      ]
     },
     "metadata": {},
     "output_type": "display_data"
    },
    {
     "name": "stdout",
     "output_type": "stream",
     "text": [
      "La précision est 0.656488549618\n",
      "\n",
      "L'AUC est 0.653708133971\n",
      "\n",
      "Le score moyen par 10 cross-validation est 0.811446886447\n"
     ]
    }
   ],
   "source": [
    "DTC = tree.DecisionTreeClassifier()\n",
    "dtc = algo_apprentissage(DTC)"
   ]
  },
  {
   "cell_type": "markdown",
   "metadata": {
    "collapsed": true
   },
   "source": [
    "# Arbre ID3"
   ]
  },
  {
   "cell_type": "code",
   "execution_count": 10,
   "metadata": {},
   "outputs": [
    {
     "data": {
      "image/png": "[encoded data removed]",
      "text/plain": [
       "<matplotlib.figure.Figure at 0x1a1b452588>"
      ]
     },
     "metadata": {},
     "output_type": "display_data"
    },
    {
     "name": "stdout",
     "output_type": "stream",
     "text": [
      "La précision est 0.702290076336\n",
      "\n",
      "L'AUC est 0.693181818182\n",
      "\n",
      "Le score moyen par 10 cross-validation est 0.754304029304\n"
     ]
    }
   ],
   "source": [
    "id3 = tree.DecisionTreeClassifier(criterion=\"entropy\")\n",
    "essai = algo_apprentissage(id3)"
   ]
  },
  {
   "cell_type": "markdown",
   "metadata": {},
   "source": [
    "# Decision Stump"
   ]
  },
  {
   "cell_type": "code",
   "execution_count": 11,
   "metadata": {},
   "outputs": [
    {
     "data": {
      "image/png": "[encoded data removed]",
      "text/plain": [
       "<matplotlib.figure.Figure at 0x1a1ec6f518>"
      ]
     },
     "metadata": {},
     "output_type": "display_data"
    },
    {
     "name": "stdout",
     "output_type": "stream",
     "text": [
      "La précision est 0.732824427481\n",
      "\n",
      "L'AUC est 0.716985645933\n",
      "\n",
      "Le score moyen par 10 cross-validation est 0.767307692308\n"
     ]
    }
   ],
   "source": [
    "decision_stump = GradientBoostingClassifier(n_estimators=100,\n",
    "                                 learning_rate=1.0,\n",
    "                                 max_depth=1,\n",
    "                                 random_state=0)\n",
    "\n",
    "ds = algo_apprentissage(decision_stump)"
   ]
  },
  {
   "cell_type": "markdown",
   "metadata": {},
   "source": [
    "# MLP"
   ]
  },
  {
   "cell_type": "code",
   "execution_count": 12,
   "metadata": {},
   "outputs": [
    {
     "data": {
      "image/png": "[encoded data removed]",
      "text/plain": [
       "<matplotlib.figure.Figure at 0x1a1f073358>"
      ]
     },
     "metadata": {},
     "output_type": "display_data"
    },
    {
     "name": "stdout",
     "output_type": "stream",
     "text": [
      "La précision est 0.709923664122\n",
      "\n",
      "L'AUC est 0.68971291866\n",
      "\n",
      "Le score moyen par 10 cross-validation est 0.705494505495\n"
     ]
    }
   ],
   "source": [
    "MLP = MLPClassifier(solver='lbfgs',\n",
    "                    alpha=1,\n",
    "                    hidden_layer_sizes=(20, 10))\n",
    "\n",
    "mlp = algo_apprentissage(MLP)"
   ]
  },
  {
   "cell_type": "markdown",
   "metadata": {},
   "source": [
    "# KNN"
   ]
  },
  {
   "cell_type": "code",
   "execution_count": 13,
   "metadata": {},
   "outputs": [
    {
     "data": {
      "image/png": "[encoded data removed]",
      "text/plain": [
       "<matplotlib.figure.Figure at 0x1a1eaf8a20>"
      ]
     },
     "metadata": {},
     "output_type": "display_data"
    },
    {
     "name": "stdout",
     "output_type": "stream",
     "text": [
      "La précision est 0.69465648855\n",
      "\n",
      "L'AUC est 0.676555023923\n",
      "\n",
      "Le score moyen par 10 cross-validation est 0.770512820513\n"
     ]
    }
   ],
   "source": [
    "KNN = KNeighborsClassifier()\n",
    "knn = algo_apprentissage(KNN)"
   ]
  },
  {
   "cell_type": "markdown",
   "metadata": {},
   "source": [
    "# Bagging "
   ]
  },
  {
   "cell_type": "code",
   "execution_count": 14,
   "metadata": {},
   "outputs": [
    {
     "data": {
      "image/png": "[encoded data removed]",
      "text/plain": [
       "<matplotlib.figure.Figure at 0x1a1ebdcf28>"
      ]
     },
     "metadata": {},
     "output_type": "display_data"
    },
    {
     "name": "stdout",
     "output_type": "stream",
     "text": [
      "La précision est 0.732824427481\n",
      "\n",
      "L'AUC est 0.722009569378\n",
      "\n",
      "Le score moyen par 10 cross-validation est 0.79652014652\n"
     ]
    }
   ],
   "source": [
    "BC = BaggingClassifier(n_estimators=50)\n",
    "bc = algo_apprentissage(BC)"
   ]
  },
  {
   "cell_type": "markdown",
   "metadata": {},
   "source": [
    "# Adaboost"
   ]
  },
  {
   "cell_type": "code",
   "execution_count": 15,
   "metadata": {},
   "outputs": [
    {
     "data": {
      "image/png": "[encoded data removed]",
      "text/plain": [
       "<matplotlib.figure.Figure at 0x1a1f10cdd8>"
      ]
     },
     "metadata": {},
     "output_type": "display_data"
    },
    {
     "name": "stdout",
     "output_type": "stream",
     "text": [
      "La précision est 0.717557251908\n",
      "\n",
      "L'AUC est 0.693779904306\n",
      "\n",
      "Le score moyen par 10 cross-validation est 0.697802197802\n"
     ]
    }
   ],
   "source": [
    "ABC = AdaBoostClassifier(n_estimators=50,\n",
    "                         learning_rate=1.0,\n",
    "                         algorithm='SAMME.R',\n",
    "                         random_state=None)\n",
    "abc = algo_apprentissage(ABC)"
   ]
  },
  {
   "cell_type": "markdown",
   "metadata": {},
   "source": [
    "# RandomForest"
   ]
  },
  {
   "cell_type": "code",
   "execution_count": 16,
   "metadata": {},
   "outputs": [
    {
     "data": {
      "image/png": "[encoded data removed]",
      "text/plain": [
       "<matplotlib.figure.Figure at 0x1a1f9d6da0>"
      ]
     },
     "metadata": {},
     "output_type": "display_data"
    },
    {
     "name": "stdout",
     "output_type": "stream",
     "text": [
      "La précision est 0.717557251908\n",
      "\n",
      "L'AUC est 0.703827751196\n",
      "\n",
      "Le score moyen par 10 cross-validation est 0.77152014652\n"
     ]
    }
   ],
   "source": [
    "RFC = RandomForestClassifier(n_estimators=10,\n",
    "                             criterion='gini',\n",
    "                             max_depth=None,\n",
    "                             min_samples_split=2,\n",
    "                             min_samples_leaf=1,\n",
    "                             min_weight_fraction_leaf=0.0,\n",
    "                             max_features='auto',\n",
    "                             max_leaf_nodes=None,\n",
    "                             min_impurity_decrease=0.0,\n",
    "                             min_impurity_split=None,\n",
    "                             bootstrap=True,\n",
    "                             oob_score=False,\n",
    "                             n_jobs=1,\n",
    "                             random_state=None,\n",
    "                             verbose=0,\n",
    "                             warm_start=False,\n",
    "                             class_weight=None)\n",
    "\n",
    "rfc = algo_apprentissage(RFC)"
   ]
  },
  {
   "cell_type": "markdown",
   "metadata": {},
   "source": [
    "On met en place les algorithmes proposés dans le sujet de TP\n",
    "\n",
    "On affiche la courbe ROC de performance des différents algorithmes\n",
    "\n",
    "Les résultats sont plutôt bons."
   ]
  },
  {
   "cell_type": "code",
   "execution_count": null,
   "metadata": {
    "collapsed": true
   },
   "outputs": [],
   "source": []
  },
  {
   "cell_type": "code",
   "execution_count": null,
   "metadata": {
    "collapsed": true
   },
   "outputs": [],
   "source": []
  },
  {
   "cell_type": "markdown",
   "metadata": {},
   "source": [
    "PCA_Transformation"
   ]
  },
  {
   "cell_type": "code",
   "execution_count": 17,
   "metadata": {
    "collapsed": true
   },
   "outputs": [],
   "source": [
    "def pca_transform(data=sous_ensemble,\n",
    "        target=cible,\n",
    "        variance=0.7,\n",
    "        print_mode=True,\n",
    "        normalized=True,\n",
    "        min_max_ed=False):\n",
    "    if normalized:\n",
    "        scaler = StandardScaler()\n",
    "        data = scaler.fit_transform(data)\n",
    "    elif min_max_ed:\n",
    "        scaler = MinMaxScaler()\n",
    "        data = scaler.fit_transform(data)\n",
    "        \n",
    "        \n",
    "    for x in range(len(data[0])):\n",
    "        pca = PCA(n_components=x)\n",
    "        pca.fit(data)\n",
    "        if sum(pca.explained_variance_ratio_) > variance:## and x >1:\n",
    "            if print_mode:\n",
    "                print('Hello World')\n",
    "            break\n",
    "    X_pca = pca.fit_transform(data)\n",
    "    if print_mode:\n",
    "        plt.scatter(X_pca[:, 0], X_pca[:, 1])\n",
    "        plt.show()\n",
    "        plt.close()\n",
    "    return [pca,X_pca]\n",
    "        \n",
    "        \n",
    "pca_data = pca_transform(normalized=True, print_mode=False)[1]\n",
    "\n"
   ]
  },
  {
   "cell_type": "code",
   "execution_count": 18,
   "metadata": {
    "collapsed": true
   },
   "outputs": [],
   "source": [
    "colnames = ['Accuracy', 'AUC', 'Moyenne CV', 'Precision', 'Std CV', 'Temps']\n",
    "algos = [KNN, DTC, id3, BC, RFC, ABC, MLP, GNB]\n",
    "indexs = ['KNN', 'DTC', 'id3', 'BC', 'RFC', 'ABC', 'MLP', 'GNB']\n",
    "clfs = dict()\n",
    "for x in range(len(algos)):\n",
    "    clfs[indexs[x]] = algos[x]\n",
    "    \n",
    "    \n",
    "    \n",
    "def final_table(mode=None,\n",
    "                data=sous_ensemble,\n",
    "                col=colnames,\n",
    "                algos=algos,\n",
    "                indexs=indexs):\n",
    "    if mode is None:\n",
    "        pass\n",
    "    elif mode == 'normalized':\n",
    "        scaler = StandardScaler()\n",
    "        scaler.fit(data)\n",
    "        data = scaler.transform(data)\n",
    "    elif mode == 'min_max_ed':\n",
    "        scaler = MinMaxScaler()\n",
    "        scaler.fit(data)\n",
    "        data = scaler.transform(data)\n",
    "    elif mode == 'pca':\n",
    "        data = pca_transform(data=data,\n",
    "                                 normalized=True,\n",
    "                                 print_mode=False)[1]\n",
    "\n",
    "\n",
    "    result = []\n",
    "    for alg in algos:\n",
    "        t1 = time.time()\n",
    "        res_algo = algo_apprentissage(alg, data=data, target=cible,print_mode=False)\n",
    "        t2 = time.time()\n",
    "        delta_t = t2 - t1\n",
    "        ajout = [res_algo['q_mod'].accuracy, res_algo['q_mod'].AUC, res_algo['q_mod'].moyenne, res_algo['q_mod'].precision, res_algo['q_mod'].ecart_type, delta_t]\n",
    "        result.append(ajout)\n",
    "\n",
    "    result = pd.DataFrame(result, columns=colnames, index=indexs)\n",
    "    return result\n",
    "\n",
    "modes = [None, 'normalized', 'min_max_ed', 'pca']\n",
    "\n",
    "tables = dict()\n",
    "for mode in modes:\n",
    "    event = dict()\n",
    "    tables[str(mode)] = final_table(mode=mode)"
   ]
  },
  {
   "cell_type": "markdown",
   "metadata": {},
   "source": [
    "Ainsi dans table nous avons les résultats des algos en fonction de la méthode de \n",
    "preprocessing untilisée."
   ]
  },
  {
   "cell_type": "code",
   "execution_count": null,
   "metadata": {
    "collapsed": true
   },
   "outputs": [],
   "source": []
  },
  {
   "cell_type": "code",
   "execution_count": 19,
   "metadata": {},
   "outputs": [
    {
     "data": {
      "text/html": [
       "<div>\n",
       "<style>\n",
       "    .dataframe thead tr:only-child th {\n",
       "        text-align: right;\n",
       "    }\n",
       "\n",
       "    .dataframe thead th {\n",
       "        text-align: left;\n",
       "    }\n",
       "\n",
       "    .dataframe tbody tr th {\n",
       "        vertical-align: top;\n",
       "    }\n",
       "</style>\n",
       "<table border=\"1\" class=\"dataframe\">\n",
       "  <thead>\n",
       "    <tr style=\"text-align: right;\">\n",
       "      <th></th>\n",
       "      <th>Accuracy</th>\n",
       "      <th>AUC</th>\n",
       "      <th>Moyenne CV</th>\n",
       "      <th>Precision</th>\n",
       "      <th>Std CV</th>\n",
       "      <th>Temps</th>\n",
       "    </tr>\n",
       "  </thead>\n",
       "  <tbody>\n",
       "    <tr>\n",
       "      <th>KNN</th>\n",
       "      <td>0.694656</td>\n",
       "      <td>0.676555</td>\n",
       "      <td>0.770513</td>\n",
       "      <td>0.554966</td>\n",
       "      <td>0.125371</td>\n",
       "      <td>0.062193</td>\n",
       "    </tr>\n",
       "    <tr>\n",
       "      <th>DTC</th>\n",
       "      <td>0.648855</td>\n",
       "      <td>0.642105</td>\n",
       "      <td>0.787637</td>\n",
       "      <td>0.515307</td>\n",
       "      <td>0.048599</td>\n",
       "      <td>0.053979</td>\n",
       "    </tr>\n",
       "    <tr>\n",
       "      <th>id3</th>\n",
       "      <td>0.717557</td>\n",
       "      <td>0.701316</td>\n",
       "      <td>0.725733</td>\n",
       "      <td>0.580439</td>\n",
       "      <td>0.120412</td>\n",
       "      <td>0.053307</td>\n",
       "    </tr>\n",
       "    <tr>\n",
       "      <th>BC</th>\n",
       "      <td>0.732824</td>\n",
       "      <td>0.716986</td>\n",
       "      <td>0.803663</td>\n",
       "      <td>0.598184</td>\n",
       "      <td>0.089170</td>\n",
       "      <td>0.736237</td>\n",
       "    </tr>\n",
       "    <tr>\n",
       "      <th>RFC</th>\n",
       "      <td>0.725191</td>\n",
       "      <td>0.695335</td>\n",
       "      <td>0.772711</td>\n",
       "      <td>0.591365</td>\n",
       "      <td>0.124166</td>\n",
       "      <td>0.177413</td>\n",
       "    </tr>\n",
       "    <tr>\n",
       "      <th>ABC</th>\n",
       "      <td>0.717557</td>\n",
       "      <td>0.693780</td>\n",
       "      <td>0.697802</td>\n",
       "      <td>0.580450</td>\n",
       "      <td>0.082327</td>\n",
       "      <td>0.724531</td>\n",
       "    </tr>\n",
       "    <tr>\n",
       "      <th>MLP</th>\n",
       "      <td>0.763359</td>\n",
       "      <td>0.733254</td>\n",
       "      <td>0.719231</td>\n",
       "      <td>0.645385</td>\n",
       "      <td>0.120684</td>\n",
       "      <td>0.722745</td>\n",
       "    </tr>\n",
       "    <tr>\n",
       "      <th>GNB</th>\n",
       "      <td>0.740458</td>\n",
       "      <td>0.700957</td>\n",
       "      <td>0.745879</td>\n",
       "      <td>0.620857</td>\n",
       "      <td>0.138022</td>\n",
       "      <td>0.050237</td>\n",
       "    </tr>\n",
       "  </tbody>\n",
       "</table>\n",
       "</div>"
      ],
      "text/plain": [
       "     Accuracy       AUC  Moyenne CV  Precision    Std CV     Temps\n",
       "KNN  0.694656  0.676555    0.770513   0.554966  0.125371  0.062193\n",
       "DTC  0.648855  0.642105    0.787637   0.515307  0.048599  0.053979\n",
       "id3  0.717557  0.701316    0.725733   0.580439  0.120412  0.053307\n",
       "BC   0.732824  0.716986    0.803663   0.598184  0.089170  0.736237\n",
       "RFC  0.725191  0.695335    0.772711   0.591365  0.124166  0.177413\n",
       "ABC  0.717557  0.693780    0.697802   0.580450  0.082327  0.724531\n",
       "MLP  0.763359  0.733254    0.719231   0.645385  0.120684  0.722745\n",
       "GNB  0.740458  0.700957    0.745879   0.620857  0.138022  0.050237"
      ]
     },
     "execution_count": 19,
     "metadata": {},
     "output_type": "execute_result"
    }
   ],
   "source": [
    "tables['None']\n"
   ]
  },
  {
   "cell_type": "code",
   "execution_count": 20,
   "metadata": {},
   "outputs": [
    {
     "data": {
      "text/html": [
       "<div>\n",
       "<style>\n",
       "    .dataframe thead tr:only-child th {\n",
       "        text-align: right;\n",
       "    }\n",
       "\n",
       "    .dataframe thead th {\n",
       "        text-align: left;\n",
       "    }\n",
       "\n",
       "    .dataframe tbody tr th {\n",
       "        vertical-align: top;\n",
       "    }\n",
       "</style>\n",
       "<table border=\"1\" class=\"dataframe\">\n",
       "  <thead>\n",
       "    <tr style=\"text-align: right;\">\n",
       "      <th></th>\n",
       "      <th>Accuracy</th>\n",
       "      <th>AUC</th>\n",
       "      <th>Moyenne CV</th>\n",
       "      <th>Precision</th>\n",
       "      <th>Std CV</th>\n",
       "      <th>Temps</th>\n",
       "    </tr>\n",
       "  </thead>\n",
       "  <tbody>\n",
       "    <tr>\n",
       "      <th>KNN</th>\n",
       "      <td>0.717557</td>\n",
       "      <td>0.706340</td>\n",
       "      <td>0.759615</td>\n",
       "      <td>0.580993</td>\n",
       "      <td>0.155069</td>\n",
       "      <td>0.053098</td>\n",
       "    </tr>\n",
       "    <tr>\n",
       "      <th>DTC</th>\n",
       "      <td>0.679389</td>\n",
       "      <td>0.675957</td>\n",
       "      <td>0.766209</td>\n",
       "      <td>0.544422</td>\n",
       "      <td>0.059294</td>\n",
       "      <td>0.055091</td>\n",
       "    </tr>\n",
       "    <tr>\n",
       "      <th>id3</th>\n",
       "      <td>0.694656</td>\n",
       "      <td>0.676555</td>\n",
       "      <td>0.770971</td>\n",
       "      <td>0.554966</td>\n",
       "      <td>0.119853</td>\n",
       "      <td>0.053327</td>\n",
       "    </tr>\n",
       "    <tr>\n",
       "      <th>BC</th>\n",
       "      <td>0.740458</td>\n",
       "      <td>0.723565</td>\n",
       "      <td>0.788187</td>\n",
       "      <td>0.607501</td>\n",
       "      <td>0.103533</td>\n",
       "      <td>0.773447</td>\n",
       "    </tr>\n",
       "    <tr>\n",
       "      <th>RFC</th>\n",
       "      <td>0.763359</td>\n",
       "      <td>0.743301</td>\n",
       "      <td>0.803114</td>\n",
       "      <td>0.637991</td>\n",
       "      <td>0.105849</td>\n",
       "      <td>0.194503</td>\n",
       "    </tr>\n",
       "    <tr>\n",
       "      <th>ABC</th>\n",
       "      <td>0.717557</td>\n",
       "      <td>0.693780</td>\n",
       "      <td>0.697802</td>\n",
       "      <td>0.580450</td>\n",
       "      <td>0.082327</td>\n",
       "      <td>0.751783</td>\n",
       "    </tr>\n",
       "    <tr>\n",
       "      <th>MLP</th>\n",
       "      <td>0.770992</td>\n",
       "      <td>0.744856</td>\n",
       "      <td>0.717949</td>\n",
       "      <td>0.652962</td>\n",
       "      <td>0.107523</td>\n",
       "      <td>0.832745</td>\n",
       "    </tr>\n",
       "    <tr>\n",
       "      <th>GNB</th>\n",
       "      <td>0.740458</td>\n",
       "      <td>0.700957</td>\n",
       "      <td>0.753022</td>\n",
       "      <td>0.620857</td>\n",
       "      <td>0.138050</td>\n",
       "      <td>0.045181</td>\n",
       "    </tr>\n",
       "  </tbody>\n",
       "</table>\n",
       "</div>"
      ],
      "text/plain": [
       "     Accuracy       AUC  Moyenne CV  Precision    Std CV     Temps\n",
       "KNN  0.717557  0.706340    0.759615   0.580993  0.155069  0.053098\n",
       "DTC  0.679389  0.675957    0.766209   0.544422  0.059294  0.055091\n",
       "id3  0.694656  0.676555    0.770971   0.554966  0.119853  0.053327\n",
       "BC   0.740458  0.723565    0.788187   0.607501  0.103533  0.773447\n",
       "RFC  0.763359  0.743301    0.803114   0.637991  0.105849  0.194503\n",
       "ABC  0.717557  0.693780    0.697802   0.580450  0.082327  0.751783\n",
       "MLP  0.770992  0.744856    0.717949   0.652962  0.107523  0.832745\n",
       "GNB  0.740458  0.700957    0.753022   0.620857  0.138050  0.045181"
      ]
     },
     "execution_count": 20,
     "metadata": {},
     "output_type": "execute_result"
    }
   ],
   "source": [
    "tables['min_max_ed']"
   ]
  },
  {
   "cell_type": "code",
   "execution_count": 21,
   "metadata": {},
   "outputs": [
    {
     "data": {
      "text/html": [
       "<div>\n",
       "<style>\n",
       "    .dataframe thead tr:only-child th {\n",
       "        text-align: right;\n",
       "    }\n",
       "\n",
       "    .dataframe thead th {\n",
       "        text-align: left;\n",
       "    }\n",
       "\n",
       "    .dataframe tbody tr th {\n",
       "        vertical-align: top;\n",
       "    }\n",
       "</style>\n",
       "<table border=\"1\" class=\"dataframe\">\n",
       "  <thead>\n",
       "    <tr style=\"text-align: right;\">\n",
       "      <th></th>\n",
       "      <th>Accuracy</th>\n",
       "      <th>AUC</th>\n",
       "      <th>Moyenne CV</th>\n",
       "      <th>Precision</th>\n",
       "      <th>Std CV</th>\n",
       "      <th>Temps</th>\n",
       "    </tr>\n",
       "  </thead>\n",
       "  <tbody>\n",
       "    <tr>\n",
       "      <th>KNN</th>\n",
       "      <td>0.702290</td>\n",
       "      <td>0.683134</td>\n",
       "      <td>0.766850</td>\n",
       "      <td>0.563048</td>\n",
       "      <td>0.118478</td>\n",
       "      <td>0.053846</td>\n",
       "    </tr>\n",
       "    <tr>\n",
       "      <th>DTC</th>\n",
       "      <td>0.679389</td>\n",
       "      <td>0.675957</td>\n",
       "      <td>0.788187</td>\n",
       "      <td>0.544422</td>\n",
       "      <td>0.065025</td>\n",
       "      <td>0.051971</td>\n",
       "    </tr>\n",
       "    <tr>\n",
       "      <th>id3</th>\n",
       "      <td>0.679389</td>\n",
       "      <td>0.663397</td>\n",
       "      <td>0.755495</td>\n",
       "      <td>0.539792</td>\n",
       "      <td>0.128079</td>\n",
       "      <td>0.054483</td>\n",
       "    </tr>\n",
       "    <tr>\n",
       "      <th>BC</th>\n",
       "      <td>0.778626</td>\n",
       "      <td>0.763995</td>\n",
       "      <td>0.811996</td>\n",
       "      <td>0.655965</td>\n",
       "      <td>0.110145</td>\n",
       "      <td>0.740791</td>\n",
       "    </tr>\n",
       "    <tr>\n",
       "      <th>RFC</th>\n",
       "      <td>0.793893</td>\n",
       "      <td>0.767105</td>\n",
       "      <td>0.786996</td>\n",
       "      <td>0.688992</td>\n",
       "      <td>0.097274</td>\n",
       "      <td>0.184696</td>\n",
       "    </tr>\n",
       "    <tr>\n",
       "      <th>ABC</th>\n",
       "      <td>0.717557</td>\n",
       "      <td>0.693780</td>\n",
       "      <td>0.697802</td>\n",
       "      <td>0.580450</td>\n",
       "      <td>0.082327</td>\n",
       "      <td>0.740292</td>\n",
       "    </tr>\n",
       "    <tr>\n",
       "      <th>MLP</th>\n",
       "      <td>0.755725</td>\n",
       "      <td>0.744258</td>\n",
       "      <td>0.798352</td>\n",
       "      <td>0.625462</td>\n",
       "      <td>0.131312</td>\n",
       "      <td>0.817524</td>\n",
       "    </tr>\n",
       "    <tr>\n",
       "      <th>GNB</th>\n",
       "      <td>0.740458</td>\n",
       "      <td>0.700957</td>\n",
       "      <td>0.753022</td>\n",
       "      <td>0.620857</td>\n",
       "      <td>0.138050</td>\n",
       "      <td>0.046978</td>\n",
       "    </tr>\n",
       "  </tbody>\n",
       "</table>\n",
       "</div>"
      ],
      "text/plain": [
       "     Accuracy       AUC  Moyenne CV  Precision    Std CV     Temps\n",
       "KNN  0.702290  0.683134    0.766850   0.563048  0.118478  0.053846\n",
       "DTC  0.679389  0.675957    0.788187   0.544422  0.065025  0.051971\n",
       "id3  0.679389  0.663397    0.755495   0.539792  0.128079  0.054483\n",
       "BC   0.778626  0.763995    0.811996   0.655965  0.110145  0.740791\n",
       "RFC  0.793893  0.767105    0.786996   0.688992  0.097274  0.184696\n",
       "ABC  0.717557  0.693780    0.697802   0.580450  0.082327  0.740292\n",
       "MLP  0.755725  0.744258    0.798352   0.625462  0.131312  0.817524\n",
       "GNB  0.740458  0.700957    0.753022   0.620857  0.138050  0.046978"
      ]
     },
     "execution_count": 21,
     "metadata": {},
     "output_type": "execute_result"
    }
   ],
   "source": [
    "tables['normalized']"
   ]
  },
  {
   "cell_type": "code",
   "execution_count": 22,
   "metadata": {},
   "outputs": [
    {
     "data": {
      "text/html": [
       "<div>\n",
       "<style>\n",
       "    .dataframe thead tr:only-child th {\n",
       "        text-align: right;\n",
       "    }\n",
       "\n",
       "    .dataframe thead th {\n",
       "        text-align: left;\n",
       "    }\n",
       "\n",
       "    .dataframe tbody tr th {\n",
       "        vertical-align: top;\n",
       "    }\n",
       "</style>\n",
       "<table border=\"1\" class=\"dataframe\">\n",
       "  <thead>\n",
       "    <tr style=\"text-align: right;\">\n",
       "      <th></th>\n",
       "      <th>Accuracy</th>\n",
       "      <th>AUC</th>\n",
       "      <th>Moyenne CV</th>\n",
       "      <th>Precision</th>\n",
       "      <th>Std CV</th>\n",
       "      <th>Temps</th>\n",
       "    </tr>\n",
       "  </thead>\n",
       "  <tbody>\n",
       "    <tr>\n",
       "      <th>KNN</th>\n",
       "      <td>0.679389</td>\n",
       "      <td>0.665909</td>\n",
       "      <td>0.691209</td>\n",
       "      <td>0.540635</td>\n",
       "      <td>0.124843</td>\n",
       "      <td>0.054819</td>\n",
       "    </tr>\n",
       "    <tr>\n",
       "      <th>DTC</th>\n",
       "      <td>0.610687</td>\n",
       "      <td>0.584091</td>\n",
       "      <td>0.676374</td>\n",
       "      <td>0.473279</td>\n",
       "      <td>0.154395</td>\n",
       "      <td>0.081943</td>\n",
       "    </tr>\n",
       "    <tr>\n",
       "      <th>id3</th>\n",
       "      <td>0.595420</td>\n",
       "      <td>0.575957</td>\n",
       "      <td>0.672253</td>\n",
       "      <td>0.465750</td>\n",
       "      <td>0.095190</td>\n",
       "      <td>0.071735</td>\n",
       "    </tr>\n",
       "    <tr>\n",
       "      <th>BC</th>\n",
       "      <td>0.648855</td>\n",
       "      <td>0.619498</td>\n",
       "      <td>0.700824</td>\n",
       "      <td>0.505173</td>\n",
       "      <td>0.146638</td>\n",
       "      <td>0.787126</td>\n",
       "    </tr>\n",
       "    <tr>\n",
       "      <th>RFC</th>\n",
       "      <td>0.610687</td>\n",
       "      <td>0.584091</td>\n",
       "      <td>0.712637</td>\n",
       "      <td>0.473279</td>\n",
       "      <td>0.104268</td>\n",
       "      <td>0.223817</td>\n",
       "    </tr>\n",
       "    <tr>\n",
       "      <th>ABC</th>\n",
       "      <td>0.610687</td>\n",
       "      <td>0.579067</td>\n",
       "      <td>0.676374</td>\n",
       "      <td>0.470547</td>\n",
       "      <td>0.160250</td>\n",
       "      <td>0.835750</td>\n",
       "    </tr>\n",
       "    <tr>\n",
       "      <th>MLP</th>\n",
       "      <td>0.648855</td>\n",
       "      <td>0.639593</td>\n",
       "      <td>0.697161</td>\n",
       "      <td>0.514085</td>\n",
       "      <td>0.088096</td>\n",
       "      <td>0.849016</td>\n",
       "    </tr>\n",
       "    <tr>\n",
       "      <th>GNB</th>\n",
       "      <td>0.732824</td>\n",
       "      <td>0.694378</td>\n",
       "      <td>0.703022</td>\n",
       "      <td>0.607796</td>\n",
       "      <td>0.112665</td>\n",
       "      <td>0.047173</td>\n",
       "    </tr>\n",
       "  </tbody>\n",
       "</table>\n",
       "</div>"
      ],
      "text/plain": [
       "     Accuracy       AUC  Moyenne CV  Precision    Std CV     Temps\n",
       "KNN  0.679389  0.665909    0.691209   0.540635  0.124843  0.054819\n",
       "DTC  0.610687  0.584091    0.676374   0.473279  0.154395  0.081943\n",
       "id3  0.595420  0.575957    0.672253   0.465750  0.095190  0.071735\n",
       "BC   0.648855  0.619498    0.700824   0.505173  0.146638  0.787126\n",
       "RFC  0.610687  0.584091    0.712637   0.473279  0.104268  0.223817\n",
       "ABC  0.610687  0.579067    0.676374   0.470547  0.160250  0.835750\n",
       "MLP  0.648855  0.639593    0.697161   0.514085  0.088096  0.849016\n",
       "GNB  0.732824  0.694378    0.703022   0.607796  0.112665  0.047173"
      ]
     },
     "execution_count": 22,
     "metadata": {},
     "output_type": "execute_result"
    }
   ],
   "source": [
    "tables['pca']"
   ]
  },
  {
   "cell_type": "code",
   "execution_count": null,
   "metadata": {
    "collapsed": true
   },
   "outputs": [],
   "source": []
  },
  {
   "cell_type": "code",
   "execution_count": 23,
   "metadata": {
    "scrolled": true
   },
   "outputs": [
    {
     "name": "stdout",
     "output_type": "stream",
     "text": [
      "Accuracy for KNN is: 0.683 +/- 0.053\n",
      "Accuracy for DTC is: 0.671 +/- 0.042\n",
      "Accuracy for id3 is: 0.672 +/- 0.053\n",
      "Accuracy for BC is: 0.720 +/- 0.063\n",
      "Accuracy for RFC is: 0.723 +/- 0.055\n",
      "Accuracy for ABC is: 0.711 +/- 0.047\n",
      "Accuracy for MLP is: 0.698 +/- 0.062\n",
      "Accuracy for GNB is: 0.652 +/- 0.035\n"
     ]
    }
   ],
   "source": [
    "def run_classifiers(classifiers=clfs,\n",
    "                    X=sous_ensemble,\n",
    "                    Y=cible,\n",
    "                    print_mode=True,\n",
    "                    n_splits=10,\n",
    "                    mode=None):\n",
    "    \n",
    "    if mode is None:\n",
    "        pass\n",
    "    elif mode == 'normalized':\n",
    "        scaler = StandardScaler()\n",
    "        scaler.fit(X)\n",
    "        X = scaler.transform(X)\n",
    "    elif mode == 'min_max_ed':\n",
    "        scaler = MinMaxScaler()\n",
    "        scaler.fit(X)\n",
    "        X == scaler.transform(X)\n",
    "    elif mode == 'pca':\n",
    "        X = pca_transform(data=X,\n",
    "                          normalized=True,\n",
    "                          print_mode=False)[1]\n",
    "\n",
    "    kf = KFold(n_splits=n_splits, shuffle=True, random_state=0) \n",
    "\n",
    "    result = []\n",
    "    \n",
    "    for i in classifiers:\n",
    "        clf = classifiers[i]\n",
    "        cv_acc = cross_val_score(clf, X, Y, cv=kf)\n",
    "        if print_mode:\n",
    "            print(\"Accuracy for {0} is: {1:.3f} +/- {2:.3f}\".format(i, np.mean(cv_acc), np.std(cv_acc)))\n",
    "        result.append([i,np.mean(cv_acc)])\n",
    "    \n",
    "    result = sorted(result, key=itemgetter(1), reverse=True)\n",
    "    return result\n",
    "\n",
    "\n",
    "rc = run_classifiers(mode='min_max_ed', print_mode=True)"
   ]
  },
  {
   "cell_type": "code",
   "execution_count": null,
   "metadata": {
    "collapsed": true
   },
   "outputs": [],
   "source": []
  },
  {
   "cell_type": "code",
   "execution_count": 24,
   "metadata": {
    "collapsed": true
   },
   "outputs": [],
   "source": [
    "forest = ExtraTreesClassifier(n_estimators=250,\n",
    "                              random_state=0)\n",
    "\n",
    "forest.fit(sous_ensemble, cible)\n",
    "importances = forest.feature_importances_"
   ]
  },
  {
   "cell_type": "code",
   "execution_count": 25,
   "metadata": {},
   "outputs": [
    {
     "data": {
      "text/plain": [
       "array([ 0.6,  0.7,  1. ,  0.5,  0.3,  0.3,  0.4,  0.9,  0.5,  0.1,  0.7,\n",
       "        0. ,  0. ,  0.2,  0.3,  0.2,  0.5,  0.3,  0.8,  0.2,  0.7,  0.8,\n",
       "        0.5,  0.4,  0.7,  0.8,  0.3,  0. ,  0.3,  0.4,  1. ,  0.6,  0.7,\n",
       "        1. ,  0. ,  0.4,  1. ,  0. ,  0.1,  0.4,  0.2,  0.3,  0.1,  0.1,\n",
       "        0.6,  0.7,  0.1,  0.2,  0.1,  1. ,  0.5,  0.2,  0.6,  0. ,  0.1,\n",
       "        0.6,  0.8,  0.3,  0. ,  1. ,  0.2,  0.2,  0.4,  0.9,  0.8,  0.5,\n",
       "        0. ,  0.2,  0.2,  0.6,  0.2,  0.3,  0.9,  0.2,  0. ,  0.6,  0.5,\n",
       "        0.9,  0.9,  0.1,  1. ,  0.5,  0. ,  0.1,  0.2,  0.6,  0.4,  0.9,\n",
       "        0. ,  0.4,  0.1,  0.2,  0.6,  0.3,  1. ,  0.2,  0.4,  0. ,  0. ,\n",
       "        0.3,  0.4,  0. ,  0.1,  0.1,  0.2,  1. ,  0. ,  1. ,  0. ,  0. ,\n",
       "        1. ,  1. ,  0.4,  1. ,  0.5,  0.4,  0.5,  0. ,  0.2,  0.4,  1. ,\n",
       "        0.5,  0.1,  0.2,  0.2,  0.6,  0.2,  0. ,  0.2,  0.1,  0.3])"
      ]
     },
     "execution_count": 25,
     "metadata": {},
     "output_type": "execute_result"
    }
   ],
   "source": [
    "rf = RandomForestRegressor()\n",
    "rf.fit(X_train, y_train).predict(X_test)\n"
   ]
  },
  {
   "cell_type": "code",
   "execution_count": 26,
   "metadata": {},
   "outputs": [
    {
     "data": {
      "image/png": "[encoded data removed]",
      "text/plain": [
       "<matplotlib.figure.Figure at 0x1a1eea2d68>"
      ]
     },
     "metadata": {},
     "output_type": "display_data"
    }
   ],
   "source": [
    "clf = RandomForestClassifier()\n",
    "\n",
    "clf.fit(sous_ensemble, cible) \n",
    "\n",
    "importances=clf.feature_importances_ \n",
    "sorted_idx = np.argsort(importances)[::-1]\n",
    "\n",
    "features =np.arange(1, sous_ensemble.shape[1])\n",
    "\n",
    "padding = np.arange(sous_ensemble.size/len(sous_ensemble)) + 0.5 \n",
    "plt.barh(padding, importances[sorted_idx], align='center') \n",
    "#plt.yticks(padding, features[sorted_idx]) \n",
    "plt.xlabel(\"Relative Importance\")\n",
    "plt.title(\"Variable Importance\")\n",
    "plt.show()"
   ]
  },
  {
   "cell_type": "code",
   "execution_count": 27,
   "metadata": {},
   "outputs": [
    {
     "data": {
      "text/plain": [
       "(653, 5)"
      ]
     },
     "execution_count": 27,
     "metadata": {},
     "output_type": "execute_result"
    }
   ],
   "source": [
    "\n",
    "sous_ensemble.shape\n"
   ]
  },
  {
   "cell_type": "markdown",
   "metadata": {},
   "source": [
    "Preprocessing cat"
   ]
  },
  {
   "cell_type": "code",
   "execution_count": 28,
   "metadata": {
    "collapsed": true
   },
   "outputs": [],
   "source": [
    "X_cat = np.copy(data_cat) \n",
    "for col_id in range(len(X_cat[0])):\n",
    "    unique_val, val_idx = np.unique(X_cat[:, col_id], return_inverse=True) \n",
    "    X_cat[:, col_id] = val_idx\n",
    "\n",
    "imp_cat = Imputer(missing_values=np.nan, strategy='most_frequent') \n",
    "X_cat[:, range(5)] = imp_cat.fit_transform(X_cat[:, range(5)])\n",
    "\n",
    "\n",
    "encodeur = OneHotEncoder()\n",
    "encodeur.fit(X_cat)\n",
    "X_cat = encodeur.transform(X_cat).toarray()"
   ]
  },
  {
   "cell_type": "code",
   "execution_count": 29,
   "metadata": {
    "collapsed": true
   },
   "outputs": [],
   "source": [
    "X_num = np.copy(data_num) \n",
    "imp_num = Imputer(missing_values=np.nan, strategy='mean')\n",
    "imp_num = Imputer(missing_values=0, strategy='mean')\n",
    "X_num = imp_num.fit_transform(X_num)"
   ]
  },
  {
   "cell_type": "code",
   "execution_count": 39,
   "metadata": {
    "collapsed": true
   },
   "outputs": [],
   "source": [
    "cleaned_data = pd.DataFrame(np.concatenate((X_cat, X_num), axis=1))"
   ]
  },
  {
   "cell_type": "code",
   "execution_count": 40,
   "metadata": {
    "scrolled": true
   },
   "outputs": [
    {
     "name": "stdout",
     "output_type": "stream",
     "text": [
      "Accuracy for KNN is: 0.727 +/- 0.047\n",
      "Accuracy for DTC is: 0.807 +/- 0.042\n",
      "Accuracy for id3 is: 0.820 +/- 0.050\n",
      "Accuracy for BC is: 0.853 +/- 0.043\n",
      "Accuracy for RFC is: 0.858 +/- 0.043\n",
      "Accuracy for ABC is: 0.840 +/- 0.049\n",
      "Accuracy for MLP is: 0.721 +/- 0.106\n",
      "Accuracy for GNB is: 0.826 +/- 0.040\n"
     ]
    }
   ],
   "source": [
    "rc = run_classifiers(X=cleaned_data, Y=cible_final, classifiers=clfs, print_mode=True, mode='min_max_ed')\n",
    "\n",
    "\n",
    "for clf in clfs:\n",
    "    algo_apprentissage(clfs[clf], data=cleaned_data, target=cible_final, print_mode=False)"
   ]
  },
  {
   "cell_type": "code",
   "execution_count": 42,
   "metadata": {
    "collapsed": true
   },
   "outputs": [],
   "source": [
    "table_finale = dict()\n",
    "modes = [None, 'normalized', 'min_max_ed', 'pca']\n",
    "for mode in modes:\n",
    "    table_finale[mode] = pd.DataFrame(run_classifiers(X=cleaned_data, Y=cible_final, classifiers=clfs, print_mode=False, mode=mode), columns=['algo', 'accuracy'] )"
   ]
  },
  {
   "cell_type": "code",
   "execution_count": 43,
   "metadata": {},
   "outputs": [
    {
     "data": {
      "text/html": [
       "<div>\n",
       "<style>\n",
       "    .dataframe thead tr:only-child th {\n",
       "        text-align: right;\n",
       "    }\n",
       "\n",
       "    .dataframe thead th {\n",
       "        text-align: left;\n",
       "    }\n",
       "\n",
       "    .dataframe tbody tr th {\n",
       "        vertical-align: top;\n",
       "    }\n",
       "</style>\n",
       "<table border=\"1\" class=\"dataframe\">\n",
       "  <thead>\n",
       "    <tr style=\"text-align: right;\">\n",
       "      <th></th>\n",
       "      <th>algo</th>\n",
       "      <th>accuracy</th>\n",
       "    </tr>\n",
       "  </thead>\n",
       "  <tbody>\n",
       "    <tr>\n",
       "      <th>0</th>\n",
       "      <td>RFC</td>\n",
       "      <td>0.847357</td>\n",
       "    </tr>\n",
       "    <tr>\n",
       "      <th>1</th>\n",
       "      <td>BC</td>\n",
       "      <td>0.844416</td>\n",
       "    </tr>\n",
       "    <tr>\n",
       "      <th>2</th>\n",
       "      <td>ABC</td>\n",
       "      <td>0.840153</td>\n",
       "    </tr>\n",
       "    <tr>\n",
       "      <th>3</th>\n",
       "      <td>GNB</td>\n",
       "      <td>0.825618</td>\n",
       "    </tr>\n",
       "    <tr>\n",
       "      <th>4</th>\n",
       "      <td>DTC</td>\n",
       "      <td>0.810955</td>\n",
       "    </tr>\n",
       "    <tr>\n",
       "      <th>5</th>\n",
       "      <td>id3</td>\n",
       "      <td>0.808078</td>\n",
       "    </tr>\n",
       "    <tr>\n",
       "      <th>6</th>\n",
       "      <td>MLP</td>\n",
       "      <td>0.735614</td>\n",
       "    </tr>\n",
       "    <tr>\n",
       "      <th>7</th>\n",
       "      <td>KNN</td>\n",
       "      <td>0.726876</td>\n",
       "    </tr>\n",
       "  </tbody>\n",
       "</table>\n",
       "</div>"
      ],
      "text/plain": [
       "  algo  accuracy\n",
       "0  RFC  0.847357\n",
       "1   BC  0.844416\n",
       "2  ABC  0.840153\n",
       "3  GNB  0.825618\n",
       "4  DTC  0.810955\n",
       "5  id3  0.808078\n",
       "6  MLP  0.735614\n",
       "7  KNN  0.726876"
      ]
     },
     "execution_count": 43,
     "metadata": {},
     "output_type": "execute_result"
    }
   ],
   "source": [
    "table_finale[None]"
   ]
  },
  {
   "cell_type": "code",
   "execution_count": 44,
   "metadata": {},
   "outputs": [
    {
     "data": {
      "text/html": [
       "<div>\n",
       "<style>\n",
       "    .dataframe thead tr:only-child th {\n",
       "        text-align: right;\n",
       "    }\n",
       "\n",
       "    .dataframe thead th {\n",
       "        text-align: left;\n",
       "    }\n",
       "\n",
       "    .dataframe tbody tr th {\n",
       "        vertical-align: top;\n",
       "    }\n",
       "</style>\n",
       "<table border=\"1\" class=\"dataframe\">\n",
       "  <thead>\n",
       "    <tr style=\"text-align: right;\">\n",
       "      <th></th>\n",
       "      <th>algo</th>\n",
       "      <th>accuracy</th>\n",
       "    </tr>\n",
       "  </thead>\n",
       "  <tbody>\n",
       "    <tr>\n",
       "      <th>0</th>\n",
       "      <td>RFC</td>\n",
       "      <td>0.861935</td>\n",
       "    </tr>\n",
       "    <tr>\n",
       "      <th>1</th>\n",
       "      <td>BC</td>\n",
       "      <td>0.851662</td>\n",
       "    </tr>\n",
       "    <tr>\n",
       "      <th>2</th>\n",
       "      <td>ABC</td>\n",
       "      <td>0.840153</td>\n",
       "    </tr>\n",
       "    <tr>\n",
       "      <th>3</th>\n",
       "      <td>GNB</td>\n",
       "      <td>0.825618</td>\n",
       "    </tr>\n",
       "    <tr>\n",
       "      <th>4</th>\n",
       "      <td>id3</td>\n",
       "      <td>0.812404</td>\n",
       "    </tr>\n",
       "    <tr>\n",
       "      <th>5</th>\n",
       "      <td>DTC</td>\n",
       "      <td>0.799361</td>\n",
       "    </tr>\n",
       "    <tr>\n",
       "      <th>6</th>\n",
       "      <td>MLP</td>\n",
       "      <td>0.737020</td>\n",
       "    </tr>\n",
       "    <tr>\n",
       "      <th>7</th>\n",
       "      <td>KNN</td>\n",
       "      <td>0.726876</td>\n",
       "    </tr>\n",
       "  </tbody>\n",
       "</table>\n",
       "</div>"
      ],
      "text/plain": [
       "  algo  accuracy\n",
       "0  RFC  0.861935\n",
       "1   BC  0.851662\n",
       "2  ABC  0.840153\n",
       "3  GNB  0.825618\n",
       "4  id3  0.812404\n",
       "5  DTC  0.799361\n",
       "6  MLP  0.737020\n",
       "7  KNN  0.726876"
      ]
     },
     "execution_count": 44,
     "metadata": {},
     "output_type": "execute_result"
    }
   ],
   "source": [
    "table_finale['min_max_ed']"
   ]
  },
  {
   "cell_type": "code",
   "execution_count": null,
   "metadata": {
    "collapsed": true
   },
   "outputs": [],
   "source": []
  },
  {
   "cell_type": "code",
   "execution_count": null,
   "metadata": {
    "collapsed": true
   },
   "outputs": [],
   "source": []
  },
  {
   "cell_type": "code",
   "execution_count": null,
   "metadata": {
    "collapsed": true
   },
   "outputs": [],
   "source": []
  },
  {
   "cell_type": "code",
   "execution_count": null,
   "metadata": {
    "collapsed": true
   },
   "outputs": [],
   "source": []
  },
  {
   "cell_type": "code",
   "execution_count": null,
   "metadata": {
    "collapsed": true
   },
   "outputs": [],
   "source": []
  },
  {
   "cell_type": "code",
   "execution_count": null,
   "metadata": {
    "collapsed": true
   },
   "outputs": [],
   "source": []
  }
 ],
 "metadata": {
  "kernelspec": {
   "display_name": "Python 3",
   "language": "python",
   "name": "python3"
  },
  "language_info": {
   "codemirror_mode": {
    "name": "ipython",
    "version": 3
   },
   "file_extension": ".py",
   "mimetype": "text/x-python",
   "name": "python",
   "nbconvert_exporter": "python",
   "pygments_lexer": "ipython3",
   "version": "3.6.0"
  }
 },
 "nbformat": 4,
 "nbformat_minor": 2
}
