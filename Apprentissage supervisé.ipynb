{
 "cells": [
  {
   "cell_type": "code",
   "execution_count": 120,
   "metadata": {
    "collapsed": true
   },
   "outputs": [],
   "source": [
    "import pandas as pd\n",
    "import numpy as np\n",
    "import sklearn\n",
    "\n",
    "import matplotlib \n",
    "import matplotlib.pyplot as plt\n",
    "\n",
    "from sklearn import metrics\n",
    "from sklearn.model_selection import cross_val_score\n",
    "from sklearn.metrics import average_precision_score\n",
    "\n",
    "from sklearn.naive_bayes import GaussianNB\n",
    "from sklearn import tree\n",
    "from sklearn.ensemble import GradientBoostingClassifier\n",
    "from sklearn.neural_network import MLPClassifier\n",
    "from sklearn.neighbors import NearestNeighbors\n",
    "from sklearn.neighbors import KNeighborsClassifier\n",
    "from sklearn.model_selection import train_test_split\n",
    "from sklearn.model_selection import KFold\n",
    "from sklearn.ensemble import BaggingClassifier\n",
    "from sklearn.ensemble import AdaBoostClassifier\n",
    "from sklearn.ensemble import RandomForestClassifier\n",
    "from sklearn.preprocessing import StandardScaler\n",
    "from sklearn.preprocessing import MinMaxScaler\n",
    "from sklearn.preprocessing import OneHotEncoder\n",
    "from sklearn.decomposition import PCA\n",
    "from sklearn.datasets import make_classification\n",
    "from sklearn.ensemble import ExtraTreesClassifier\n",
    "from sklearn.ensemble import RandomForestRegressor\n",
    "from sklearn.preprocessing import Imputer\n",
    "\n",
    "import time\n",
    "from operator import itemgetter\n",
    "\n"
   ]
  },
  {
   "cell_type": "code",
   "execution_count": 151,
   "metadata": {
    "collapsed": true
   },
   "outputs": [],
   "source": [
    "path = 'credit.data'\n",
    "data = pd.read_csv(path, delimiter='\t',header=None, na_values='?')\n",
    "##data = pd.DataFrame(data)\n",
    "data = data.dropna(axis=0, how='any')\n",
    "cible = data[15]##.values.reshape(-1,1)\n",
    "###cible  = pd.DataFrame(data=cible)\n",
    "cible = cible.replace(to_replace='+', value=1)\n",
    "cible = cible.replace(to_replace='-', value=0)\n",
    "data = data.drop(15, axis=1)\n",
    "sous_ensemble = data[[1,2,7,13,14]]\n",
    "sous_ensemble = sous_ensemble.astype(float)\n",
    "\n",
    "\n",
    "\n",
    "path = 'credit.data'\n",
    "data = pd.read_csv(path, delimiter='\t',header=None, na_values='?')\n",
    "data_num = data[[1,2,7,13,14]]\n",
    "data_cat = data[[3,4,5,6,8,9,10,11,12]]\n",
    "data_cat = data_cat.astype(str)\n",
    "cible_final = data[15]\n",
    "cible_final = cible_final.replace(to_replace='+', value=1)\n",
    "cible_final = cible_final.replace(to_replace='-', value=0)\n",
    "\n",
    "\n",
    "\n",
    "\n",
    "gnb = GaussianNB()\n",
    "\n",
    "\n",
    "X_train, X_test, y_train, y_test = train_test_split(sous_ensemble, \n",
    "                                                    cible, \n",
    "                                                    test_size=0.2, \n",
    "                                                    random_state=42)"
   ]
  },
  {
   "cell_type": "markdown",
   "metadata": {},
   "source": [
    "# ROC"
   ]
  },
  {
   "cell_type": "code",
   "execution_count": 122,
   "metadata": {
    "collapsed": true
   },
   "outputs": [],
   "source": [
    "def TP(theta,pred,result):\n",
    "    count = 0\n",
    "    i = 0\n",
    "    for x in (result):\n",
    "        if pred[i][1] > theta and x == 1:\n",
    "            count += 1\n",
    "        i += 1\n",
    "    return count\n",
    "\n",
    "\n",
    "def FP(theta,pred,result):\n",
    "    count = 0\n",
    "    i = 0\n",
    "    for x in (result):\n",
    "        if pred[i][1] >= theta and x == 0:\n",
    "            count += 1\n",
    "        i += 1\n",
    "    return count\n",
    "\n",
    "\n",
    "def TN(theta,pred,result):\n",
    "    count = 0\n",
    "    i = 0\n",
    "    for x in (result):\n",
    "        if pred[i][1] < theta and x == 0:\n",
    "            count += 1\n",
    "        i += 1\n",
    "    return count\n",
    "\n",
    "\n",
    "def FN(theta,pred,result):\n",
    "    count = 0\n",
    "    i = 0\n",
    "    for x in (result):\n",
    "        if pred[i][1] < theta and x == 1:\n",
    "            count += 1\n",
    "        i += 1\n",
    "    return count\n",
    "\n",
    "\n",
    "class ROC_curves:\n",
    "    def __init__(self,\n",
    "                 pred=sous_ensemble,\n",
    "                 res=cible,\n",
    "                 gran = 101):\n",
    "        x = []\n",
    "        y = []\n",
    "        for j in range(0,gran):\n",
    "            tn = TN(j/(gran-1),pred,res)\n",
    "            neg = tn + FP(j/(gran-1),pred,res)\n",
    "            tp = TP(j/(gran-1),pred,res)\n",
    "            pos = tp + FN(j/(gran-1),pred,res)\n",
    "\n",
    "            if neg == 0:\n",
    "                x.append(0)\n",
    "            else:\n",
    "                x.append(tn / neg)\n",
    "            if pos == 0:\n",
    "                y.append(0)\n",
    "            else:\n",
    "                y.append(tp / pos)\n",
    "      \n",
    "        self.rocx = x\n",
    "        self.rocy = y\n",
    "    def plot_it(self):\n",
    "        plt.plot(self.rocx,self.rocy)\n",
    "        plt.show()"
   ]
  },
  {
   "cell_type": "markdown",
   "metadata": {},
   "source": [
    "# Qualité"
   ]
  },
  {
   "cell_type": "code",
   "execution_count": 123,
   "metadata": {
    "collapsed": true
   },
   "outputs": [],
   "source": [
    "class Qualite:\n",
    "    def __init__(self, \n",
    "                   _modele=gnb, \n",
    "                   _data=sous_ensemble, \n",
    "                   _y=cible, \n",
    "                   _y_pred=cible,\n",
    "                   _y_pred_proba=cible,\n",
    "                   _cv=10,\n",
    "                   _print_mode=True):\n",
    "        \n",
    "        self.accuracy = sklearn.metrics.accuracy_score(_y, _y_pred)\n",
    "        self.AUC = sklearn.metrics.roc_auc_score(_y, _y_pred)\n",
    "        self.cross_validation = cross_val_score(_modele, _data, y=_y, cv=_cv)\n",
    "        self.moyenne = np.mean(self.cross_validation)\n",
    "        self.ecart_type = np.std(self.cross_validation)\n",
    "        self.precision = average_precision_score(_y, _y_pred)\n",
    "        \n",
    "        self.roc = ROC_curves(pred=_y_pred_proba, res=_y)\n",
    "        \n",
    "        \n",
    "        if _print_mode:\n",
    "            self.roc.plot_it()"
   ]
  },
  {
   "cell_type": "markdown",
   "metadata": {},
   "source": [
    "# Apprentissage"
   ]
  },
  {
   "cell_type": "code",
   "execution_count": 124,
   "metadata": {
    "collapsed": true
   },
   "outputs": [],
   "source": [
    "def algo_apprentissage(mod=GaussianNB(),\n",
    "                           data=sous_ensemble,\n",
    "                           target=cible,\n",
    "                           print_mode=True,\n",
    "                           cv=10):\n",
    "    X_train, X_test, y_train, y_test = train_test_split(data, \n",
    "                                                    target, \n",
    "                                                    test_size=0.2, \n",
    "                                                    random_state=42)\n",
    "    result = dict()\n",
    "    mod_fit = mod.fit(X_train, y_train)\n",
    "    y_prediction_proba = mod_fit.predict_proba(X_test)\n",
    "    y_prediction = mod_fit.predict(X_test)\n",
    "    q_mod = Qualite(_modele=mod,\n",
    "                 _data=X_test,\n",
    "                 _y=y_test,\n",
    "                 _y_pred=y_prediction,\n",
    "                 _y_pred_proba=y_prediction_proba,\n",
    "                 _print_mode=print_mode,\n",
    "                 _cv=cv)\n",
    "    \n",
    "    result['y_prediction_proba'] = y_prediction_proba\n",
    "    result['y_prediction'] = y_prediction\n",
    "    result['q_mod'] = q_mod\n",
    "    \n",
    "    if print_mode:\n",
    "        print('La précision est ' + str(q_mod.accuracy))\n",
    "        print('')\n",
    "        print('L\\'AUC est ' + str(q_mod.AUC))\n",
    "        print('')\n",
    "        print('Le score moyen par ' + str(cv) + ' cross-validation est ' + str(q_mod.moyenne))\n",
    "    \n",
    "    return result"
   ]
  },
  {
   "cell_type": "markdown",
   "metadata": {},
   "source": [
    "# NaiveBayesSimple"
   ]
  },
  {
   "cell_type": "code",
   "execution_count": 125,
   "metadata": {},
   "outputs": [
    {
     "data": {
      "image/png": "[encoded data removed]",
      "text/plain": [
       "<matplotlib.figure.Figure at 0x11dea4e80>"
      ]
     },
     "metadata": {},
     "output_type": "display_data"
    },
    {
     "name": "stdout",
     "output_type": "stream",
     "text": [
      "La précision est 0.740458015267\n",
      "\n",
      "L'AUC est 0.700956937799\n",
      "\n",
      "Le score moyen par 10 cross-validation est 0.745879120879\n"
     ]
    }
   ],
   "source": [
    "GNB = GaussianNB()\n",
    "gnb = algo_apprentissage(GNB)"
   ]
  },
  {
   "cell_type": "markdown",
   "metadata": {},
   "source": [
    "# Arbre CART"
   ]
  },
  {
   "cell_type": "code",
   "execution_count": 126,
   "metadata": {},
   "outputs": [
    {
     "data": {
      "image/png": "[encoded data removed]",
      "text/plain": [
       "<matplotlib.figure.Figure at 0x11dd63ef0>"
      ]
     },
     "metadata": {},
     "output_type": "display_data"
    },
    {
     "name": "stdout",
     "output_type": "stream",
     "text": [
      "La précision est 0.664122137405\n",
      "\n",
      "L'AUC est 0.66028708134\n",
      "\n",
      "Le score moyen par 10 cross-validation est 0.780494505495\n"
     ]
    }
   ],
   "source": [
    "DTC = tree.DecisionTreeClassifier()\n",
    "dtc = algo_apprentissage(DTC)"
   ]
  },
  {
   "cell_type": "markdown",
   "metadata": {
    "collapsed": true
   },
   "source": [
    "# Arbre ID3"
   ]
  },
  {
   "cell_type": "code",
   "execution_count": 127,
   "metadata": {},
   "outputs": [
    {
     "data": {
      "image/png": "[encoded data removed]",
      "text/plain": [
       "<matplotlib.figure.Figure at 0x11d3e20b8>"
      ]
     },
     "metadata": {},
     "output_type": "display_data"
    },
    {
     "name": "stdout",
     "output_type": "stream",
     "text": [
      "La précision est 0.702290076336\n",
      "\n",
      "L'AUC est 0.688157894737\n",
      "\n",
      "Le score moyen par 10 cross-validation est 0.747802197802\n"
     ]
    }
   ],
   "source": [
    "id3 = tree.DecisionTreeClassifier(criterion=\"entropy\")\n",
    "essai = algo_apprentissage(id3)"
   ]
  },
  {
   "cell_type": "markdown",
   "metadata": {},
   "source": [
    "# Decision Stump"
   ]
  },
  {
   "cell_type": "code",
   "execution_count": 128,
   "metadata": {},
   "outputs": [
    {
     "data": {
      "image/png": "[encoded data removed]",
      "text/plain": [
       "<matplotlib.figure.Figure at 0x11e1d5c88>"
      ]
     },
     "metadata": {},
     "output_type": "display_data"
    },
    {
     "name": "stdout",
     "output_type": "stream",
     "text": [
      "La précision est 0.732824427481\n",
      "\n",
      "L'AUC est 0.716985645933\n",
      "\n",
      "Le score moyen par 10 cross-validation est 0.767307692308\n"
     ]
    }
   ],
   "source": [
    "decision_stump = GradientBoostingClassifier(n_estimators=100,\n",
    "                                 learning_rate=1.0,\n",
    "                                 max_depth=1,\n",
    "                                 random_state=0)\n",
    "\n",
    "ds = algo_apprentissage(decision_stump)"
   ]
  },
  {
   "cell_type": "markdown",
   "metadata": {},
   "source": [
    "# MLP"
   ]
  },
  {
   "cell_type": "code",
   "execution_count": 129,
   "metadata": {},
   "outputs": [
    {
     "data": {
      "image/png": "[encoded data removed]",
      "text/plain": [
       "<matplotlib.figure.Figure at 0x11d2f25f8>"
      ]
     },
     "metadata": {},
     "output_type": "display_data"
    },
    {
     "name": "stdout",
     "output_type": "stream",
     "text": [
      "La précision est 0.740458015267\n",
      "\n",
      "L'AUC est 0.711004784689\n",
      "\n",
      "Le score moyen par 10 cross-validation est 0.71684981685\n"
     ]
    }
   ],
   "source": [
    "MLP = MLPClassifier(solver='lbfgs',\n",
    "                    alpha=1,\n",
    "                    hidden_layer_sizes=(20, 10))\n",
    "\n",
    "mlp = algo_apprentissage(MLP)"
   ]
  },
  {
   "cell_type": "markdown",
   "metadata": {},
   "source": [
    "# KNN"
   ]
  },
  {
   "cell_type": "code",
   "execution_count": 130,
   "metadata": {},
   "outputs": [
    {
     "data": {
      "image/png": "[encoded data removed]",
      "text/plain": [
       "<matplotlib.figure.Figure at 0x119cb0a58>"
      ]
     },
     "metadata": {},
     "output_type": "display_data"
    },
    {
     "name": "stdout",
     "output_type": "stream",
     "text": [
      "La précision est 0.69465648855\n",
      "\n",
      "L'AUC est 0.676555023923\n",
      "\n",
      "Le score moyen par 10 cross-validation est 0.770512820513\n"
     ]
    }
   ],
   "source": [
    "KNN = KNeighborsClassifier()\n",
    "knn = algo_apprentissage(KNN)"
   ]
  },
  {
   "cell_type": "markdown",
   "metadata": {},
   "source": [
    "# Bagging "
   ]
  },
  {
   "cell_type": "code",
   "execution_count": 131,
   "metadata": {},
   "outputs": [
    {
     "data": {
      "image/png": "[encoded data removed]",
      "text/plain": [
       "<matplotlib.figure.Figure at 0x11ec13320>"
      ]
     },
     "metadata": {},
     "output_type": "display_data"
    },
    {
     "name": "stdout",
     "output_type": "stream",
     "text": [
      "La précision est 0.75572519084\n",
      "\n",
      "L'AUC est 0.736722488038\n",
      "\n",
      "Le score moyen par 10 cross-validation est 0.786996336996\n"
     ]
    }
   ],
   "source": [
    "BC = BaggingClassifier(n_estimators=50)\n",
    "bc = algo_apprentissage(BC)"
   ]
  },
  {
   "cell_type": "markdown",
   "metadata": {},
   "source": [
    "# Adaboost"
   ]
  },
  {
   "cell_type": "code",
   "execution_count": 132,
   "metadata": {},
   "outputs": [
    {
     "data": {
      "image/png": "[encoded data removed]",
      "text/plain": [
       "<matplotlib.figure.Figure at 0x11d40e710>"
      ]
     },
     "metadata": {},
     "output_type": "display_data"
    },
    {
     "name": "stdout",
     "output_type": "stream",
     "text": [
      "La précision est 0.717557251908\n",
      "\n",
      "L'AUC est 0.693779904306\n",
      "\n",
      "Le score moyen par 10 cross-validation est 0.697802197802\n"
     ]
    }
   ],
   "source": [
    "ABC = AdaBoostClassifier(n_estimators=50,\n",
    "                         learning_rate=1.0,\n",
    "                         algorithm='SAMME.R',\n",
    "                         random_state=None)\n",
    "abc = algo_apprentissage(ABC)"
   ]
  },
  {
   "cell_type": "markdown",
   "metadata": {},
   "source": [
    "# RandomForest"
   ]
  },
  {
   "cell_type": "code",
   "execution_count": 133,
   "metadata": {},
   "outputs": [
    {
     "data": {
      "image/png": "[encoded data removed]",
      "text/plain": [
       "<matplotlib.figure.Figure at 0x11fb355c0>"
      ]
     },
     "metadata": {},
     "output_type": "display_data"
    },
    {
     "name": "stdout",
     "output_type": "stream",
     "text": [
      "La précision est 0.725190839695\n",
      "\n",
      "L'AUC est 0.70538277512\n",
      "\n",
      "Le score moyen par 10 cross-validation est 0.779853479853\n"
     ]
    }
   ],
   "source": [
    "RFC = RandomForestClassifier(n_estimators=10,\n",
    "                             criterion='gini',\n",
    "                             max_depth=None,\n",
    "                             min_samples_split=2,\n",
    "                             min_samples_leaf=1,\n",
    "                             min_weight_fraction_leaf=0.0,\n",
    "                             max_features='auto',\n",
    "                             max_leaf_nodes=None,\n",
    "                             min_impurity_decrease=0.0,\n",
    "                             min_impurity_split=None,\n",
    "                             bootstrap=True,\n",
    "                             oob_score=False,\n",
    "                             n_jobs=1,\n",
    "                             random_state=None,\n",
    "                             verbose=0,\n",
    "                             warm_start=False,\n",
    "                             class_weight=None)\n",
    "\n",
    "rfc = algo_apprentissage(RFC)"
   ]
  },
  {
   "cell_type": "code",
   "execution_count": 134,
   "metadata": {
    "collapsed": true
   },
   "outputs": [],
   "source": [
    "def pca_transform(data=sous_ensemble,\n",
    "        target=cible,\n",
    "        variance=0.7,\n",
    "        print_mode=True,\n",
    "        normalized=True,\n",
    "        min_max_ed=False):\n",
    "    if normalized:\n",
    "        scaler = StandardScaler()\n",
    "        data = scaler.fit_transform(data)\n",
    "    elif min_max_ed:\n",
    "        scaler = MinMaxScaler()\n",
    "        data = scaler.fit_transform(data)\n",
    "        \n",
    "        \n",
    "    for x in range(len(data[0])):\n",
    "        pca = PCA(n_components=x)\n",
    "        pca.fit(data)\n",
    "        if sum(pca.explained_variance_ratio_) > variance:## and x >1:\n",
    "            if print_mode:\n",
    "                print('Hello World')\n",
    "            break\n",
    "    X_pca = pca.fit_transform(data)\n",
    "    if print_mode:\n",
    "        plt.scatter(X_pca[:, 0], X_pca[:, 1])\n",
    "        plt.show()\n",
    "        plt.close()\n",
    "    return [pca,X_pca]\n",
    "        \n",
    "        \n",
    "pca_data = pca_transform(normalized=True, print_mode=False)[1]\n",
    "\n"
   ]
  },
  {
   "cell_type": "code",
   "execution_count": 135,
   "metadata": {
    "collapsed": true
   },
   "outputs": [],
   "source": [
    "colnames = ['Accuracy', 'AUC', 'Moyenne CV', 'Std CV', 'Temps']\n",
    "algos = [KNN, DTC, id3, BC, RFC]\n",
    "indexs = ['KNN', 'DTC', 'id3', 'BC', 'RFC']\n",
    "clfs = dict()\n",
    "for x in range(len(algos)):\n",
    "    clfs[indexs[x]] = algos[x]\n",
    "    \n",
    "    \n",
    "    \n",
    "def final_table(mode=None,\n",
    "                data=sous_ensemble,\n",
    "                col=colnames,\n",
    "                algos=algos,\n",
    "                indexs=indexs):\n",
    "    if mode is None:\n",
    "        pass\n",
    "    elif mode == 'normalized':\n",
    "        scaler = StandardScaler()\n",
    "        scaler.fit(data)\n",
    "        data = scaler.transform(data)\n",
    "    elif mode == 'min_max_ed':\n",
    "        scaler = MinMaxScaler()\n",
    "        scaler.fit(data)\n",
    "        data = scaler.transform(data)\n",
    "    elif mode == 'pca':\n",
    "        data = pca_transform(data=data,\n",
    "                                 normalized=True,\n",
    "                                 print_mode=False)[1]\n",
    "\n",
    "\n",
    "    result = []\n",
    "    for alg in algos:\n",
    "        t1 = time.time()\n",
    "        res_algo = algo_apprentissage(alg, data=data, target=cible,print_mode=False)\n",
    "        t2 = time.time()\n",
    "        delta_t = t2 - t1\n",
    "        ajout = [res_algo['q_mod'].accuracy, res_algo['q_mod'].AUC, res_algo['q_mod'].moyenne, res_algo['q_mod'].ecart_type, delta_t]\n",
    "        result.append(ajout)\n",
    "\n",
    "    result = pd.DataFrame(result, columns=colnames, index=indexs)\n",
    "    return result\n",
    "\n",
    "modes = [None, 'normalized', 'min_max_ed', 'pca']\n",
    "\n",
    "tables = dict()\n",
    "for mode in modes:\n",
    "    event = dict()\n",
    "    tables[str(mode)] = final_table(mode=mode)"
   ]
  },
  {
   "cell_type": "code",
   "execution_count": 136,
   "metadata": {
    "scrolled": true
   },
   "outputs": [
    {
     "name": "stdout",
     "output_type": "stream",
     "text": [
      "Accuracy for KNN is: 0.683 +/- 0.053\n",
      "Accuracy for DTC is: 0.665 +/- 0.052\n",
      "Accuracy for id3 is: 0.674 +/- 0.059\n",
      "Accuracy for BC is: 0.740 +/- 0.051\n",
      "Accuracy for RFC is: 0.712 +/- 0.079\n"
     ]
    }
   ],
   "source": [
    "def run_classifiers(classifiers=clfs,\n",
    "                    X=sous_ensemble,\n",
    "                    Y=cible,\n",
    "                    print_mode=True,\n",
    "                    n_splits=10,\n",
    "                    mode=None):\n",
    "    \n",
    "    if mode is None:\n",
    "        pass\n",
    "    elif mode == 'normalized':\n",
    "        scaler = StandardScaler()\n",
    "        scaler.fit(X)\n",
    "        X = scaler.transform(X)\n",
    "    elif mode == 'min_max_ed':\n",
    "        scaler = MinMaxScaler()\n",
    "        scaler.fit(X)\n",
    "        X == scaler.transform(X)\n",
    "    elif mode == 'pca':\n",
    "        X = pca_transform(data=X,\n",
    "                          normalized=True,\n",
    "                          print_mode=False)[1]\n",
    "\n",
    "    kf = KFold(n_splits=n_splits, shuffle=True, random_state=0) \n",
    "\n",
    "    result = []\n",
    "    \n",
    "    for i in classifiers:\n",
    "        clf = classifiers[i]\n",
    "        cv_acc = cross_val_score(clf, X, Y, cv=kf)\n",
    "        if print_mode:\n",
    "            print(\"Accuracy for {0} is: {1:.3f} +/- {2:.3f}\".format(i, np.mean(cv_acc), np.std(cv_acc)))\n",
    "        result.append([i,np.mean(cv_acc)])\n",
    "    \n",
    "    result = sorted(result, key=itemgetter(1), reverse=True)\n",
    "    return result\n",
    "\n",
    "\n",
    "rc = run_classifiers(mode='min_max_ed', print_mode=True)"
   ]
  },
  {
   "cell_type": "code",
   "execution_count": 147,
   "metadata": {},
   "outputs": [
    {
     "data": {
      "text/html": [
       "<div>\n",
       "<style>\n",
       "    .dataframe thead tr:only-child th {\n",
       "        text-align: right;\n",
       "    }\n",
       "\n",
       "    .dataframe thead th {\n",
       "        text-align: left;\n",
       "    }\n",
       "\n",
       "    .dataframe tbody tr th {\n",
       "        vertical-align: top;\n",
       "    }\n",
       "</style>\n",
       "<table border=\"1\" class=\"dataframe\">\n",
       "  <thead>\n",
       "    <tr style=\"text-align: right;\">\n",
       "      <th></th>\n",
       "      <th>Accuracy</th>\n",
       "      <th>AUC</th>\n",
       "      <th>Moyenne CV</th>\n",
       "      <th>Std CV</th>\n",
       "      <th>Temps</th>\n",
       "    </tr>\n",
       "  </thead>\n",
       "  <tbody>\n",
       "    <tr>\n",
       "      <th>KNN</th>\n",
       "      <td>0.694656</td>\n",
       "      <td>0.676555</td>\n",
       "      <td>0.770513</td>\n",
       "      <td>0.125371</td>\n",
       "      <td>0.060148</td>\n",
       "    </tr>\n",
       "    <tr>\n",
       "      <th>DTC</th>\n",
       "      <td>0.687023</td>\n",
       "      <td>0.682536</td>\n",
       "      <td>0.810256</td>\n",
       "      <td>0.057021</td>\n",
       "      <td>0.057676</td>\n",
       "    </tr>\n",
       "    <tr>\n",
       "      <th>id3</th>\n",
       "      <td>0.656489</td>\n",
       "      <td>0.641148</td>\n",
       "      <td>0.764469</td>\n",
       "      <td>0.135197</td>\n",
       "      <td>0.060159</td>\n",
       "    </tr>\n",
       "    <tr>\n",
       "      <th>BC</th>\n",
       "      <td>0.748092</td>\n",
       "      <td>0.732656</td>\n",
       "      <td>0.802473</td>\n",
       "      <td>0.102198</td>\n",
       "      <td>0.687307</td>\n",
       "    </tr>\n",
       "    <tr>\n",
       "      <th>RFC</th>\n",
       "      <td>0.725191</td>\n",
       "      <td>0.702871</td>\n",
       "      <td>0.788187</td>\n",
       "      <td>0.113336</td>\n",
       "      <td>0.202115</td>\n",
       "    </tr>\n",
       "  </tbody>\n",
       "</table>\n",
       "</div>"
      ],
      "text/plain": [
       "     Accuracy       AUC  Moyenne CV    Std CV     Temps\n",
       "KNN  0.694656  0.676555    0.770513  0.125371  0.060148\n",
       "DTC  0.687023  0.682536    0.810256  0.057021  0.057676\n",
       "id3  0.656489  0.641148    0.764469  0.135197  0.060159\n",
       "BC   0.748092  0.732656    0.802473  0.102198  0.687307\n",
       "RFC  0.725191  0.702871    0.788187  0.113336  0.202115"
      ]
     },
     "execution_count": 147,
     "metadata": {},
     "output_type": "execute_result"
    }
   ],
   "source": [
    "tables['None']"
   ]
  },
  {
   "cell_type": "code",
   "execution_count": null,
   "metadata": {
    "collapsed": true
   },
   "outputs": [],
   "source": []
  },
  {
   "cell_type": "code",
   "execution_count": 138,
   "metadata": {
    "collapsed": true
   },
   "outputs": [],
   "source": [
    "forest = ExtraTreesClassifier(n_estimators=250,\n",
    "                              random_state=0)\n",
    "\n",
    "forest.fit(sous_ensemble, cible)\n",
    "importances = forest.feature_importances_"
   ]
  },
  {
   "cell_type": "code",
   "execution_count": 139,
   "metadata": {},
   "outputs": [
    {
     "data": {
      "text/plain": [
       "array([ 0.6,  1. ,  1. ,  0.5,  0.3,  0.2,  0.1,  1. ,  0.3,  0. ,  0.9,\n",
       "        0. ,  0.1,  0.3,  0.1,  0.3,  0.8,  0.9,  0.7,  0.1,  0.9,  0.4,\n",
       "        0.7,  0.3,  0.5,  0.6,  0.7,  0.2,  0.4,  0.3,  1. ,  1. ,  0.4,\n",
       "        0.8,  0. ,  0.6,  0.8,  0.1,  0. ,  0.4,  0. ,  0.2,  0.3,  0.2,\n",
       "        0.8,  0.8,  0.3,  0.1,  0.4,  1. ,  0.1,  0.6,  0.6,  0. ,  0. ,\n",
       "        0.9,  0.6,  0.2,  0. ,  0.8,  0.5,  0.1,  0.5,  0.9,  0.6,  0.3,\n",
       "        0. ,  0. ,  0.2,  0.8,  0.3,  0.9,  1. ,  0. ,  0.1,  0.6,  0.4,\n",
       "        1. ,  0.9,  0. ,  0.9,  0.3,  0. ,  0.1,  0. ,  0.9,  0.4,  0.8,\n",
       "        0. ,  0.3,  0.1,  0.6,  0.3,  0.1,  1. ,  0.1,  0.1,  0. ,  0. ,\n",
       "        0.7,  0.5,  0.1,  0.2,  0.7,  0.2,  1. ,  0. ,  1. ,  0. ,  0. ,\n",
       "        0.5,  0.9,  0.1,  1. ,  0.6,  0.5,  0.8,  0. ,  0.3,  0.2,  1. ,\n",
       "        0.8,  0.3,  0.4,  0.4,  0.1,  0.4,  0. ,  0.3,  0.2,  0.6])"
      ]
     },
     "execution_count": 139,
     "metadata": {},
     "output_type": "execute_result"
    }
   ],
   "source": [
    "rf = RandomForestRegressor()\n",
    "rf.fit(X_train, y_train).predict(X_test)\n"
   ]
  },
  {
   "cell_type": "code",
   "execution_count": 140,
   "metadata": {},
   "outputs": [
    {
     "data": {
      "image/png": "[encoded data removed]",
      "text/plain": [
       "<matplotlib.figure.Figure at 0x11faeb320>"
      ]
     },
     "metadata": {},
     "output_type": "display_data"
    }
   ],
   "source": [
    "clf = RandomForestClassifier()\n",
    "\n",
    "clf.fit(sous_ensemble, cible) \n",
    "\n",
    "importances=clf.feature_importances_ \n",
    "sorted_idx = np.argsort(importances)[::-1]\n",
    "\n",
    "features =np.arange(1, sous_ensemble.shape[1])\n",
    "\n",
    "padding = np.arange(sous_ensemble.size/len(sous_ensemble)) + 0.5 \n",
    "plt.barh(padding, importances[sorted_idx], align='center') \n",
    "#plt.yticks(padding, features[sorted_idx]) \n",
    "plt.xlabel(\"Relative Importance\")\n",
    "plt.title(\"Variable Importance\")\n",
    "plt.show()"
   ]
  },
  {
   "cell_type": "code",
   "execution_count": 141,
   "metadata": {},
   "outputs": [
    {
     "data": {
      "text/plain": [
       "(653, 5)"
      ]
     },
     "execution_count": 141,
     "metadata": {},
     "output_type": "execute_result"
    }
   ],
   "source": [
    "\n",
    "sous_ensemble.shape\n"
   ]
  },
  {
   "cell_type": "markdown",
   "metadata": {},
   "source": [
    "Preprocessing cat"
   ]
  },
  {
   "cell_type": "code",
   "execution_count": 142,
   "metadata": {
    "collapsed": true
   },
   "outputs": [],
   "source": [
    "X_cat = np.copy(data_cat) \n",
    "for col_id in range(len(X_cat[0])):\n",
    "    unique_val, val_idx = np.unique(X_cat[:, col_id], return_inverse=True) \n",
    "    X_cat[:, col_id] = val_idx\n",
    "\n",
    "imp_cat = Imputer(missing_values=np.nan, strategy='most_frequent') \n",
    "X_cat[:, range(5)] = imp_cat.fit_transform(X_cat[:, range(5)])\n",
    "\n",
    "\n",
    "encodeur = OneHotEncoder()\n",
    "encodeur.fit(X_cat)\n",
    "X_cat = encodeur.transform(X_cat).toarray()"
   ]
  },
  {
   "cell_type": "code",
   "execution_count": 143,
   "metadata": {
    "collapsed": true
   },
   "outputs": [],
   "source": [
    "X_num = np.copy(data_num) \n",
    "imp_num = Imputer(missing_values=np.nan, strategy='mean')\n",
    "imp_num = Imputer(missing_values=0, strategy='mean')\n",
    "X_num = imp_num.fit_transform(X_num)"
   ]
  },
  {
   "cell_type": "code",
   "execution_count": 144,
   "metadata": {
    "collapsed": true
   },
   "outputs": [],
   "source": [
    "cleaned_data = pd.DataFrame(np.concatenate((X_cat, X_num), axis=1))"
   ]
  },
  {
   "cell_type": "code",
   "execution_count": 158,
   "metadata": {
    "scrolled": true
   },
   "outputs": [
    {
     "name": "stdout",
     "output_type": "stream",
     "text": [
      "Accuracy for KNN is: 0.727 +/- 0.047\n",
      "Accuracy for DTC is: 0.804 +/- 0.050\n",
      "Accuracy for id3 is: 0.821 +/- 0.043\n",
      "Accuracy for BC is: 0.865 +/- 0.033\n",
      "Accuracy for RFC is: 0.865 +/- 0.038\n"
     ]
    }
   ],
   "source": [
    "rc = run_classifiers(X=cleaned_data, Y=cible_final, classifiers=clfs, print_mode=True, mode='min_max_ed')\n",
    "\n",
    "\n",
    "for clf in clfs:\n",
    "    algo_apprentissage(clfs[clf], data=cleaned_data, target=cible_final, print_mode=False)"
   ]
  },
  {
   "cell_type": "code",
   "execution_count": null,
   "metadata": {
    "collapsed": true
   },
   "outputs": [],
   "source": [
    "for x in range(65):\n",
    "    if not len(cleaned_data[x]) == 688:\n",
    "        print(len(cleaned_data[x]))"
   ]
  },
  {
   "cell_type": "code",
   "execution_count": null,
   "metadata": {},
   "outputs": [],
   "source": [
    "alles = pd.DataFrame(X_cat)\n",
    "alles"
   ]
  },
  {
   "cell_type": "code",
   "execution_count": null,
   "metadata": {},
   "outputs": [],
   "source": [
    "cleaned_data.shape"
   ]
  },
  {
   "cell_type": "code",
   "execution_count": null,
   "metadata": {
    "collapsed": true
   },
   "outputs": [],
   "source": [
    "cleaned_data = pd.DataFrame(cleaned_data)"
   ]
  },
  {
   "cell_type": "code",
   "execution_count": null,
   "metadata": {
    "collapsed": true
   },
   "outputs": [],
   "source": [
    "cleaned_data.to_csv('allez.csv')"
   ]
  },
  {
   "cell_type": "code",
   "execution_count": null,
   "metadata": {
    "collapsed": true
   },
   "outputs": [],
   "source": []
  },
  {
   "cell_type": "code",
   "execution_count": null,
   "metadata": {},
   "outputs": [],
   "source": [
    "type(X_num)"
   ]
  },
  {
   "cell_type": "code",
   "execution_count": null,
   "metadata": {
    "collapsed": true
   },
   "outputs": [],
   "source": []
  }
 ],
 "metadata": {
  "kernelspec": {
   "display_name": "Python 3",
   "language": "python",
   "name": "python3"
  },
  "language_info": {
   "codemirror_mode": {
    "name": "ipython",
    "version": 3
   },
   "file_extension": ".py",
   "mimetype": "text/x-python",
   "name": "python",
   "nbconvert_exporter": "python",
   "pygments_lexer": "ipython3",
   "version": "3.6.0"
  }
 },
 "nbformat": 4,
 "nbformat_minor": 2
}
