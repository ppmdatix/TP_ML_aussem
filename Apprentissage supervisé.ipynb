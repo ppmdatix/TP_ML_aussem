{
 "cells": [
  {
   "cell_type": "code",
   "execution_count": 34,
   "metadata": {
    "collapsed": true
   },
   "outputs": [],
   "source": [
    "import pandas as pd\n",
    "import numpy as np\n",
    "import sklearn\n",
    "\n",
    "import matplotlib \n",
    "import matplotlib.pyplot as plt\n",
    "\n",
    "from sklearn import metrics\n",
    "from sklearn.model_selection import cross_val_score\n",
    "from sklearn.metrics import average_precision_score\n",
    "\n",
    "from sklearn.naive_bayes import GaussianNB\n",
    "from sklearn import tree\n",
    "from sklearn.ensemble import GradientBoostingClassifier\n",
    "from sklearn.neural_network import MLPClassifier\n",
    "from sklearn.neighbors import NearestNeighbors\n",
    "from sklearn.neighbors import KNeighborsClassifier\n",
    "from sklearn.model_selection import train_test_split\n",
    "from sklearn.model_selection import KFold\n",
    "from sklearn.ensemble import BaggingClassifier\n",
    "from sklearn.ensemble import AdaBoostClassifier\n",
    "from sklearn.ensemble import RandomForestClassifier\n",
    "from sklearn.preprocessing import StandardScaler\n",
    "from sklearn.preprocessing import MinMaxScaler\n",
    "from sklearn.decomposition import PCA\n",
    "from sklearn.datasets import make_classification\n",
    "from sklearn.ensemble import ExtraTreesClassifier\n",
    "from sklearn.ensemble import RandomForestRegressor\n",
    "\n",
    "import time\n",
    "from operator import itemgetter\n",
    "\n"
   ]
  },
  {
   "cell_type": "code",
   "execution_count": 39,
   "metadata": {
    "collapsed": true
   },
   "outputs": [],
   "source": [
    "path = 'credit.data'\n",
    "data = pd.read_csv(path, delimiter='\t',header=None, na_values='?')\n",
    "##data = pd.DataFrame(data)\n",
    "data = data.dropna(axis=0, how='any')\n",
    "cible = data[15]##.values.reshape(-1,1)\n",
    "###cible  = pd.DataFrame(data=cible)\n",
    "cible = cible.replace(to_replace='+', value=1)\n",
    "cible = cible.replace(to_replace='-', value=0)\n",
    "data = data.drop(15, axis=1)\n",
    "sous_ensemble = data[[1,2,7,13,14]]\n",
    "sous_ensemble = sous_ensemble.astype(float)\n",
    "\n",
    "gnb = GaussianNB()\n",
    "\n",
    "\n",
    "X_train, X_test, y_train, y_test = train_test_split(sous_ensemble, \n",
    "                                                    cible, \n",
    "                                                    test_size=0.2, \n",
    "                                                    random_state=42)"
   ]
  },
  {
   "cell_type": "markdown",
   "metadata": {},
   "source": [
    "# ROC"
   ]
  },
  {
   "cell_type": "code",
   "execution_count": 3,
   "metadata": {
    "collapsed": true
   },
   "outputs": [],
   "source": [
    "def TP(theta,pred,result):\n",
    "    count = 0\n",
    "    i = 0\n",
    "    for x in (result):\n",
    "        if pred[i][1] > theta and x == 1:\n",
    "            count += 1\n",
    "        i += 1\n",
    "    return count\n",
    "\n",
    "\n",
    "def FP(theta,pred,result):\n",
    "    count = 0\n",
    "    i = 0\n",
    "    for x in (result):\n",
    "        if pred[i][1] >= theta and x == 0:\n",
    "            count += 1\n",
    "        i += 1\n",
    "    return count\n",
    "\n",
    "\n",
    "def TN(theta,pred,result):\n",
    "    count = 0\n",
    "    i = 0\n",
    "    for x in (result):\n",
    "        if pred[i][1] < theta and x == 0:\n",
    "            count += 1\n",
    "        i += 1\n",
    "    return count\n",
    "\n",
    "\n",
    "def FN(theta,pred,result):\n",
    "    count = 0\n",
    "    i = 0\n",
    "    for x in (result):\n",
    "        if pred[i][1] < theta and x == 1:\n",
    "            count += 1\n",
    "        i += 1\n",
    "    return count\n",
    "\n",
    "\n",
    "class ROC_curves:\n",
    "    def __init__(self,\n",
    "                 pred=sous_ensemble,\n",
    "                 res=cible,\n",
    "                 gran = 101):\n",
    "        x = []\n",
    "        y = []\n",
    "        for j in range(0,gran):\n",
    "            tn = TN(j/(gran-1),pred,res)\n",
    "            neg = tn + FP(j/(gran-1),pred,res)\n",
    "            tp = TP(j/(gran-1),pred,res)\n",
    "            pos = tp + FN(j/(gran-1),pred,res)\n",
    "\n",
    "            if neg == 0:\n",
    "                x.append(0)\n",
    "            else:\n",
    "                x.append(tn / neg)\n",
    "            if pos == 0:\n",
    "                y.append(0)\n",
    "            else:\n",
    "                y.append(tp / pos)\n",
    "      \n",
    "        self.rocx = x\n",
    "        self.rocy = y\n",
    "    def plot_it(self):\n",
    "        plt.plot(self.rocx,self.rocy)\n",
    "        plt.show()"
   ]
  },
  {
   "cell_type": "markdown",
   "metadata": {},
   "source": [
    "# Qualité"
   ]
  },
  {
   "cell_type": "code",
   "execution_count": 4,
   "metadata": {
    "collapsed": true
   },
   "outputs": [],
   "source": [
    "class Qualite:\n",
    "    def __init__(self, \n",
    "                   _modele=gnb, \n",
    "                   _data=sous_ensemble, \n",
    "                   _y=cible, \n",
    "                   _y_pred=cible,\n",
    "                   _y_pred_proba=cible,\n",
    "                   _cv=10,\n",
    "                   _print_mode=True):\n",
    "        \n",
    "        self.accuracy = sklearn.metrics.accuracy_score(_y, _y_pred)\n",
    "        self.AUC = sklearn.metrics.roc_auc_score(_y, _y_pred)\n",
    "        self.cross_validation = cross_val_score(_modele, _data, y=_y, cv=_cv)\n",
    "        self.moyenne = np.mean(self.cross_validation)\n",
    "        self.ecart_type = np.std(self.cross_validation)\n",
    "        self.precision = average_precision_score(_y, _y_pred)\n",
    "        \n",
    "        self.roc = ROC_curves(pred=_y_pred_proba, res=_y)\n",
    "        \n",
    "        \n",
    "        if _print_mode:\n",
    "            self.roc.plot_it()"
   ]
  },
  {
   "cell_type": "markdown",
   "metadata": {},
   "source": [
    "# Apprentissage"
   ]
  },
  {
   "cell_type": "code",
   "execution_count": 5,
   "metadata": {
    "collapsed": true
   },
   "outputs": [],
   "source": [
    "def algo_apprentissage(mod=GaussianNB(),\n",
    "                           data=sous_ensemble,\n",
    "                           target=cible,\n",
    "                           print_mode=True,\n",
    "                           cv=10):\n",
    "    X_train, X_test, y_train, y_test = train_test_split(data, \n",
    "                                                    target, \n",
    "                                                    test_size=0.2, \n",
    "                                                    random_state=42)\n",
    "    result = dict()\n",
    "    mod_fit = mod.fit(X_train, y_train)\n",
    "    y_prediction_proba = mod_fit.predict_proba(X_test)\n",
    "    y_prediction = mod_fit.predict(X_test)\n",
    "    q_mod = Qualite(_modele=mod,\n",
    "                 _data=X_test,\n",
    "                 _y=y_test,\n",
    "                 _y_pred=y_prediction,\n",
    "                 _y_pred_proba=y_prediction_proba,\n",
    "                 _print_mode=print_mode,\n",
    "                 _cv=cv)\n",
    "    \n",
    "    result['y_prediction_proba'] = y_prediction_proba\n",
    "    result['y_prediction'] = y_prediction\n",
    "    result['q_mod'] = q_mod\n",
    "    \n",
    "    if print_mode:\n",
    "        print('La précision est ' + str(q_mod.accuracy))\n",
    "        print('')\n",
    "        print('L\\'AUC est ' + str(q_mod.AUC))\n",
    "        print('')\n",
    "        print('Le score moyen par ' + str(cv) + ' cross-validation est ' + str(q_mod.moyenne))\n",
    "    \n",
    "    return result"
   ]
  },
  {
   "cell_type": "markdown",
   "metadata": {},
   "source": [
    "# NaiveBayesSimple"
   ]
  },
  {
   "cell_type": "code",
   "execution_count": 6,
   "metadata": {},
   "outputs": [
    {
     "data": {
      "image/png": "[encoded data removed]",
      "text/plain": [
       "<matplotlib.figure.Figure at 0x108e239b0>"
      ]
     },
     "metadata": {},
     "output_type": "display_data"
    },
    {
     "name": "stdout",
     "output_type": "stream",
     "text": [
      "La précision est 0.740458015267\n",
      "\n",
      "L'AUC est 0.700956937799\n",
      "\n",
      "Le score moyen par 10 cross-validation est 0.745879120879\n"
     ]
    }
   ],
   "source": [
    "GNB = GaussianNB()\n",
    "gnb = algo_apprentissage(GNB)"
   ]
  },
  {
   "cell_type": "markdown",
   "metadata": {},
   "source": [
    "# Arbre CART"
   ]
  },
  {
   "cell_type": "code",
   "execution_count": 7,
   "metadata": {},
   "outputs": [
    {
     "data": {
      "image/png": "[encoded data removed]",
      "text/plain": [
       "<matplotlib.figure.Figure at 0x10ecf5160>"
      ]
     },
     "metadata": {},
     "output_type": "display_data"
    },
    {
     "name": "stdout",
     "output_type": "stream",
     "text": [
      "La précision est 0.664122137405\n",
      "\n",
      "L'AUC est 0.66028708134\n",
      "\n",
      "Le score moyen par 10 cross-validation est 0.786446886447\n"
     ]
    }
   ],
   "source": [
    "DTC = tree.DecisionTreeClassifier()\n",
    "dtc = algo_apprentissage(DTC)"
   ]
  },
  {
   "cell_type": "markdown",
   "metadata": {
    "collapsed": true
   },
   "source": [
    "# Arbre ID3"
   ]
  },
  {
   "cell_type": "code",
   "execution_count": 8,
   "metadata": {},
   "outputs": [
    {
     "data": {
      "image/png": "[encoded data removed]",
      "text/plain": [
       "<matplotlib.figure.Figure at 0x10eea7438>"
      ]
     },
     "metadata": {},
     "output_type": "display_data"
    },
    {
     "name": "stdout",
     "output_type": "stream",
     "text": [
      "La précision est 0.702290076336\n",
      "\n",
      "L'AUC est 0.688157894737\n",
      "\n",
      "Le score moyen par 10 cross-validation est 0.748992673993\n"
     ]
    }
   ],
   "source": [
    "id3 = tree.DecisionTreeClassifier(criterion=\"entropy\")\n",
    "essai = algo_apprentissage(id3)"
   ]
  },
  {
   "cell_type": "markdown",
   "metadata": {},
   "source": [
    "# Decision Stump"
   ]
  },
  {
   "cell_type": "code",
   "execution_count": 9,
   "metadata": {},
   "outputs": [
    {
     "data": {
      "image/png": "[encoded data removed]",
      "text/plain": [
       "<matplotlib.figure.Figure at 0x10f0875f8>"
      ]
     },
     "metadata": {},
     "output_type": "display_data"
    },
    {
     "name": "stdout",
     "output_type": "stream",
     "text": [
      "La précision est 0.732824427481\n",
      "\n",
      "L'AUC est 0.716985645933\n",
      "\n",
      "Le score moyen par 10 cross-validation est 0.767307692308\n"
     ]
    }
   ],
   "source": [
    "decision_stump = GradientBoostingClassifier(n_estimators=100,\n",
    "                                 learning_rate=1.0,\n",
    "                                 max_depth=1,\n",
    "                                 random_state=0)\n",
    "\n",
    "ds = algo_apprentissage(decision_stump)"
   ]
  },
  {
   "cell_type": "markdown",
   "metadata": {},
   "source": [
    "# MLP"
   ]
  },
  {
   "cell_type": "code",
   "execution_count": 10,
   "metadata": {},
   "outputs": [
    {
     "data": {
      "image/png": "[encoded data removed]",
      "text/plain": [
       "<matplotlib.figure.Figure at 0x10ee21518>"
      ]
     },
     "metadata": {},
     "output_type": "display_data"
    },
    {
     "name": "stdout",
     "output_type": "stream",
     "text": [
      "La précision est 0.709923664122\n",
      "\n",
      "L'AUC est 0.702272727273\n",
      "\n",
      "Le score moyen par 10 cross-validation est 0.725824175824\n"
     ]
    }
   ],
   "source": [
    "MLP = MLPClassifier(solver='lbfgs',\n",
    "                    alpha=1,\n",
    "                    hidden_layer_sizes=(20, 10))\n",
    "\n",
    "mlp = algo_apprentissage(MLP)"
   ]
  },
  {
   "cell_type": "markdown",
   "metadata": {},
   "source": [
    "# KNN"
   ]
  },
  {
   "cell_type": "code",
   "execution_count": 11,
   "metadata": {},
   "outputs": [
    {
     "data": {
      "image/png": "[encoded data removed]",
      "text/plain": [
       "<matplotlib.figure.Figure at 0x10f0a86a0>"
      ]
     },
     "metadata": {},
     "output_type": "display_data"
    },
    {
     "name": "stdout",
     "output_type": "stream",
     "text": [
      "La précision est 0.69465648855\n",
      "\n",
      "L'AUC est 0.676555023923\n",
      "\n",
      "Le score moyen par 10 cross-validation est 0.770512820513\n"
     ]
    }
   ],
   "source": [
    "KNN = KNeighborsClassifier()\n",
    "knn = algo_apprentissage(KNN)"
   ]
  },
  {
   "cell_type": "markdown",
   "metadata": {},
   "source": [
    "# Bagging "
   ]
  },
  {
   "cell_type": "code",
   "execution_count": 12,
   "metadata": {},
   "outputs": [
    {
     "data": {
      "image/png": "[encoded data removed]",
      "text/plain": [
       "<matplotlib.figure.Figure at 0x10f08dfd0>"
      ]
     },
     "metadata": {},
     "output_type": "display_data"
    },
    {
     "name": "stdout",
     "output_type": "stream",
     "text": [
      "La précision est 0.740458015267\n",
      "\n",
      "L'AUC est 0.721052631579\n",
      "\n",
      "Le score moyen par 10 cross-validation est 0.797710622711\n"
     ]
    }
   ],
   "source": [
    "BC = BaggingClassifier(n_estimators=50)\n",
    "bc = algo_apprentissage(BC)"
   ]
  },
  {
   "cell_type": "markdown",
   "metadata": {},
   "source": [
    "# Adaboost"
   ]
  },
  {
   "cell_type": "code",
   "execution_count": 13,
   "metadata": {},
   "outputs": [
    {
     "data": {
      "image/png": "[encoded data removed]",
      "text/plain": [
       "<matplotlib.figure.Figure at 0x10fbb82e8>"
      ]
     },
     "metadata": {},
     "output_type": "display_data"
    },
    {
     "name": "stdout",
     "output_type": "stream",
     "text": [
      "La précision est 0.717557251908\n",
      "\n",
      "L'AUC est 0.693779904306\n",
      "\n",
      "Le score moyen par 10 cross-validation est 0.697802197802\n"
     ]
    }
   ],
   "source": [
    "ABC = AdaBoostClassifier(n_estimators=50,\n",
    "                         learning_rate=1.0,\n",
    "                         algorithm='SAMME.R',\n",
    "                         random_state=None)\n",
    "abc = algo_apprentissage(ABC)"
   ]
  },
  {
   "cell_type": "markdown",
   "metadata": {},
   "source": [
    "# RandomForest"
   ]
  },
  {
   "cell_type": "code",
   "execution_count": 14,
   "metadata": {},
   "outputs": [
    {
     "data": {
      "image/png": "[encoded data removed]",
      "text/plain": [
       "<matplotlib.figure.Figure at 0x10fbeab00>"
      ]
     },
     "metadata": {},
     "output_type": "display_data"
    },
    {
     "name": "stdout",
     "output_type": "stream",
     "text": [
      "La précision est 0.778625954198\n",
      "\n",
      "L'AUC est 0.756459330144\n",
      "\n",
      "Le score moyen par 10 cross-validation est 0.774450549451\n"
     ]
    }
   ],
   "source": [
    "RFC = RandomForestClassifier(n_estimators=10,\n",
    "                             criterion='gini',\n",
    "                             max_depth=None,\n",
    "                             min_samples_split=2,\n",
    "                             min_samples_leaf=1,\n",
    "                             min_weight_fraction_leaf=0.0,\n",
    "                             max_features='auto',\n",
    "                             max_leaf_nodes=None,\n",
    "                             min_impurity_decrease=0.0,\n",
    "                             min_impurity_split=None,\n",
    "                             bootstrap=True,\n",
    "                             oob_score=False,\n",
    "                             n_jobs=1,\n",
    "                             random_state=None,\n",
    "                             verbose=0,\n",
    "                             warm_start=False,\n",
    "                             class_weight=None)\n",
    "\n",
    "rfc = algo_apprentissage(RFC)"
   ]
  },
  {
   "cell_type": "code",
   "execution_count": 15,
   "metadata": {
    "collapsed": true
   },
   "outputs": [],
   "source": [
    "def pca_transform(data=sous_ensemble,\n",
    "        target=cible,\n",
    "        variance=0.7,\n",
    "        print_mode=True,\n",
    "        normalized=True,\n",
    "        min_max_ed=False):\n",
    "    if normalized:\n",
    "        scaler = StandardScaler()\n",
    "        data = scaler.fit_transform(data)\n",
    "    elif min_max_ed:\n",
    "        scaler = MinMaxScaler()\n",
    "        data = scaler.fit_transform(data)\n",
    "        \n",
    "        \n",
    "    for x in range(len(data[0])):\n",
    "        pca = PCA(n_components=x)\n",
    "        pca.fit(data)\n",
    "        if sum(pca.explained_variance_ratio_) > variance:## and x >1:\n",
    "            if print_mode:\n",
    "                print('Hello World')\n",
    "            break\n",
    "    X_pca = pca.fit_transform(data)\n",
    "    if print_mode:\n",
    "        plt.scatter(X_pca[:, 0], X_pca[:, 1])\n",
    "        plt.show()\n",
    "        plt.close()\n",
    "    return [pca,X_pca]\n",
    "        \n",
    "        \n",
    "pca_data = pca_transform(normalized=True, print_mode=False)[1]\n",
    "\n"
   ]
  },
  {
   "cell_type": "code",
   "execution_count": 25,
   "metadata": {
    "collapsed": true
   },
   "outputs": [],
   "source": [
    "colnames = ['Accuracy', 'AUC', 'Moyenne CV', 'Std CV', 'Temps']\n",
    "algos = [KNN, DTC, id3, BC, RFC]\n",
    "indexs = ['KNN', 'DTC', 'id3', 'BC', 'RFC']\n",
    "clfs = dict()\n",
    "for x in range(len(algos)):\n",
    "    clfs[indexs[x]] = algos[x]\n",
    "    \n",
    "    \n",
    "    \n",
    "def final_table(mode=None,\n",
    "                data=sous_ensemble,\n",
    "                col=colnames,\n",
    "                algos=algos,\n",
    "                indexs=indexs):\n",
    "    if mode is None:\n",
    "        pass\n",
    "    elif mode == 'normalized':\n",
    "        scaler = StandardScaler()\n",
    "        scaler.fit(data)\n",
    "        data = scaler.transform(data)\n",
    "    elif mode == 'min_max_ed':\n",
    "        scaler = MinMaxScaler()\n",
    "        scaler.fit(data)\n",
    "        data = scaler.transform(data)\n",
    "    elif mode == 'pca':\n",
    "        data = pca_transform(data=data,\n",
    "                                 normalized=True,\n",
    "                                 print_mode=False)[1]\n",
    "\n",
    "\n",
    "    result = []\n",
    "    for alg in algos:\n",
    "        t1 = time.time()\n",
    "        res_algo = algo_apprentissage(alg, data=data, target=cible,print_mode=False)\n",
    "        t2 = time.time()\n",
    "        delta_t = t2 - t1\n",
    "        ajout = [res_algo['q_mod'].accuracy, res_algo['q_mod'].AUC, res_algo['q_mod'].moyenne, res_algo['q_mod'].ecart_type, delta_t]\n",
    "        result.append(ajout)\n",
    "\n",
    "    result = pd.DataFrame(result, columns=colnames, index=indexs)\n",
    "    return result\n",
    "\n",
    "modes = [None, 'normalized', 'min_max_ed', 'pca']\n",
    "\n",
    "tables = dict()\n",
    "for mode in modes:\n",
    "    event = dict()\n",
    "    tables[str(mode)] = final_table(mode=mode)"
   ]
  },
  {
   "cell_type": "code",
   "execution_count": 28,
   "metadata": {
    "scrolled": true
   },
   "outputs": [
    {
     "name": "stdout",
     "output_type": "stream",
     "text": [
      "Accuracy for KNN is: 0.683 +/- 0.053\n",
      "Accuracy for DTC is: 0.669 +/- 0.054\n",
      "Accuracy for id3 is: 0.694 +/- 0.063\n",
      "Accuracy for BC is: 0.715 +/- 0.043\n",
      "Accuracy for RFC is: 0.717 +/- 0.039\n"
     ]
    }
   ],
   "source": [
    "def run_classifiers(classifiers=clfs,\n",
    "                    X=sous_ensemble,\n",
    "                    Y=cible,\n",
    "                    print_mode=True,\n",
    "                    n_splits=10,\n",
    "                    mode=None):\n",
    "    \n",
    "    if mode is None:\n",
    "        pass\n",
    "    elif mode == 'normalized':\n",
    "        scaler = StandardScaler()\n",
    "        scaler.fit(X)\n",
    "        X = scaler.transform(X)\n",
    "    elif mode == 'min_max_ed':\n",
    "        scaler = MinMaxScaler()\n",
    "        scaler.fit(X)\n",
    "        X == scaler.transform(X)\n",
    "    elif mode == 'pca':\n",
    "        X = pca_transform(data=X,\n",
    "                          normalized=True,\n",
    "                          print_mode=False)[1]\n",
    "\n",
    "    kf = KFold(n_splits=n_splits, shuffle=True, random_state=0) \n",
    "\n",
    "    result = []\n",
    "    \n",
    "    for i in classifiers:\n",
    "        clf = classifiers[i]\n",
    "        cv_acc = cross_val_score(clf, X, Y, cv=kf)\n",
    "        if print_mode:\n",
    "            print(\"Accuracy for {0} is: {1:.3f} +/- {2:.3f}\".format(i, np.mean(cv_acc), np.std(cv_acc)))\n",
    "        result.append([i,np.mean(cv_acc)])\n",
    "    \n",
    "    result = sorted(result, key=itemgetter(1), reverse=True)\n",
    "    return result\n",
    "\n",
    "\n",
    "rc = run_classifiers(mode='min_max_ed', print_mode=True)"
   ]
  },
  {
   "cell_type": "code",
   "execution_count": 27,
   "metadata": {},
   "outputs": [
    {
     "data": {
      "text/html": [
       "<div>\n",
       "<style>\n",
       "    .dataframe thead tr:only-child th {\n",
       "        text-align: right;\n",
       "    }\n",
       "\n",
       "    .dataframe thead th {\n",
       "        text-align: left;\n",
       "    }\n",
       "\n",
       "    .dataframe tbody tr th {\n",
       "        vertical-align: top;\n",
       "    }\n",
       "</style>\n",
       "<table border=\"1\" class=\"dataframe\">\n",
       "  <thead>\n",
       "    <tr style=\"text-align: right;\">\n",
       "      <th></th>\n",
       "      <th>Accuracy</th>\n",
       "      <th>AUC</th>\n",
       "      <th>Moyenne CV</th>\n",
       "      <th>Std CV</th>\n",
       "      <th>Temps</th>\n",
       "    </tr>\n",
       "  </thead>\n",
       "  <tbody>\n",
       "    <tr>\n",
       "      <th>KNN</th>\n",
       "      <td>0.694656</td>\n",
       "      <td>0.676555</td>\n",
       "      <td>0.770513</td>\n",
       "      <td>0.125371</td>\n",
       "      <td>0.078351</td>\n",
       "    </tr>\n",
       "    <tr>\n",
       "      <th>DTC</th>\n",
       "      <td>0.664122</td>\n",
       "      <td>0.657775</td>\n",
       "      <td>0.779304</td>\n",
       "      <td>0.060118</td>\n",
       "      <td>0.094675</td>\n",
       "    </tr>\n",
       "    <tr>\n",
       "      <th>id3</th>\n",
       "      <td>0.717557</td>\n",
       "      <td>0.703828</td>\n",
       "      <td>0.763828</td>\n",
       "      <td>0.083767</td>\n",
       "      <td>0.060549</td>\n",
       "    </tr>\n",
       "    <tr>\n",
       "      <th>BC</th>\n",
       "      <td>0.748092</td>\n",
       "      <td>0.737679</td>\n",
       "      <td>0.810806</td>\n",
       "      <td>0.100970</td>\n",
       "      <td>0.747249</td>\n",
       "    </tr>\n",
       "    <tr>\n",
       "      <th>RFC</th>\n",
       "      <td>0.763359</td>\n",
       "      <td>0.748325</td>\n",
       "      <td>0.766209</td>\n",
       "      <td>0.113068</td>\n",
       "      <td>0.190309</td>\n",
       "    </tr>\n",
       "  </tbody>\n",
       "</table>\n",
       "</div>"
      ],
      "text/plain": [
       "     Accuracy       AUC  Moyenne CV    Std CV     Temps\n",
       "KNN  0.694656  0.676555    0.770513  0.125371  0.078351\n",
       "DTC  0.664122  0.657775    0.779304  0.060118  0.094675\n",
       "id3  0.717557  0.703828    0.763828  0.083767  0.060549\n",
       "BC   0.748092  0.737679    0.810806  0.100970  0.747249\n",
       "RFC  0.763359  0.748325    0.766209  0.113068  0.190309"
      ]
     },
     "execution_count": 27,
     "metadata": {},
     "output_type": "execute_result"
    }
   ],
   "source": [
    "tables['None']"
   ]
  },
  {
   "cell_type": "code",
   "execution_count": null,
   "metadata": {
    "collapsed": true
   },
   "outputs": [],
   "source": []
  },
  {
   "cell_type": "code",
   "execution_count": 31,
   "metadata": {
    "collapsed": true
   },
   "outputs": [],
   "source": [
    "forest = ExtraTreesClassifier(n_estimators=250,\n",
    "                              random_state=0)\n",
    "\n",
    "forest.fit(sous_ensemble, cible)\n",
    "importances = forest.feature_importances_"
   ]
  },
  {
   "cell_type": "code",
   "execution_count": 40,
   "metadata": {},
   "outputs": [
    {
     "data": {
      "text/plain": [
       "array([ 0.9,  0.9,  1. ,  0.7,  0.2,  0.3,  0.2,  1. ,  0.2,  0.1,  0.7,\n",
       "        0. ,  0.1,  0.3,  0.1,  0.1,  0.8,  0.7,  0.8,  0.1,  0.9,  0.8,\n",
       "        0.5,  0.7,  0.7,  1. ,  0.3,  0. ,  0.8,  0.5,  1. ,  0.6,  0.8,\n",
       "        1. ,  0. ,  0.6,  0.9,  0.1,  0.1,  0.6,  0.2,  0.3,  0.1,  0. ,\n",
       "        0.9,  0.6,  0.2,  0.3,  0.5,  0.9,  0.3,  0.6,  0.6,  0. ,  0.2,\n",
       "        0.8,  0.7,  0.2,  0.1,  0.6,  0.3,  0.1,  0.2,  0.8,  0.5,  0.6,\n",
       "        0. ,  0.2,  0.4,  0.4,  0.4,  0.7,  0.9,  0. ,  0. ,  0.3,  0.5,\n",
       "        0.7,  1. ,  0.4,  1. ,  0.3,  0. ,  0.4,  0.2,  0.7,  0.5,  0.7,\n",
       "        0. ,  0.5,  0.3,  0.3,  0.3,  0. ,  1. ,  0.1,  0.4,  0.1,  0. ,\n",
       "        0.8,  0.4,  0.1,  0.4,  0.5,  0.1,  1. ,  0. ,  1. ,  0. ,  0.1,\n",
       "        0.9,  0.7,  0. ,  0.9,  0.6,  0.3,  0.9,  0. ,  0.5,  0.3,  1. ,\n",
       "        0.6,  0.4,  0.4,  0.2,  0.5,  0.4,  0. ,  0.1,  0.2,  0.3])"
      ]
     },
     "execution_count": 40,
     "metadata": {},
     "output_type": "execute_result"
    }
   ],
   "source": [
    "rf = RandomForestRegressor()\n",
    "rf.fit(X_train, y_train).predict(X_test)\n"
   ]
  },
  {
   "cell_type": "code",
   "execution_count": null,
   "metadata": {
    "collapsed": true
   },
   "outputs": [],
   "source": []
  }
 ],
 "metadata": {
  "kernelspec": {
   "display_name": "Python 3",
   "language": "python",
   "name": "python3"
  },
  "language_info": {
   "codemirror_mode": {
    "name": "ipython",
    "version": 3
   },
   "file_extension": ".py",
   "mimetype": "text/x-python",
   "name": "python",
   "nbconvert_exporter": "python",
   "pygments_lexer": "ipython3",
   "version": "3.6.0"
  }
 },
 "nbformat": 4,
 "nbformat_minor": 2
}
