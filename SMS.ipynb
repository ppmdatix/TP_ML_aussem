{
 "cells": [
  {
   "cell_type": "code",
   "execution_count": 2,
   "metadata": {},
   "outputs": [
    {
     "name": "stderr",
     "output_type": "stream",
     "text": [
      "/Users/ppx/anaconda3/lib/python3.6/site-packages/sklearn/cross_validation.py:41: DeprecationWarning: This module was deprecated in version 0.18 in favor of the model_selection module into which all the refactored classes and functions are moved. Also note that the interface of the new CV iterators are different from that of this module. This module will be removed in 0.20.\n",
      "  \"This module will be removed in 0.20.\", DeprecationWarning)\n"
     ]
    }
   ],
   "source": [
    "import pandas as pd\n",
    "import numpy as np\n",
    "import sklearn\n",
    "import graphviz\n",
    "import os\n",
    "\n",
    "import matplotlib \n",
    "import matplotlib.pyplot as plt\n",
    "\n",
    "from sklearn import metrics\n",
    "from sklearn.model_selection import cross_val_score\n",
    "from sklearn.metrics import average_precision_score\n",
    "\n",
    "from sklearn.naive_bayes import GaussianNB\n",
    "from sklearn import tree\n",
    "from sklearn.ensemble import GradientBoostingClassifier\n",
    "from sklearn.neural_network import MLPClassifier\n",
    "from sklearn.neighbors import NearestNeighbors\n",
    "from sklearn.neighbors import KNeighborsClassifier\n",
    "from sklearn.model_selection import train_test_split\n",
    "from sklearn.model_selection import KFold\n",
    "from sklearn.ensemble import BaggingClassifier\n",
    "from sklearn.ensemble import AdaBoostClassifier\n",
    "from sklearn.ensemble import RandomForestClassifier\n",
    "from sklearn.preprocessing import StandardScaler\n",
    "from sklearn.preprocessing import MinMaxScaler\n",
    "from sklearn.preprocessing import OneHotEncoder\n",
    "from sklearn.decomposition import PCA\n",
    "from sklearn.datasets import make_classification\n",
    "from sklearn.ensemble import ExtraTreesClassifier\n",
    "from sklearn.ensemble import RandomForestRegressor\n",
    "from sklearn.preprocessing import Imputer\n",
    "from sklearn.cluster import KMeans\n",
    "import time\n",
    "from operator import itemgetter\n",
    "\n",
    "import xgboost as xgb\n",
    "\n",
    "from sklearn.svm import SVC\n",
    "from sklearn.model_selection import learning_curve\n",
    "from sklearn.model_selection import ShuffleSplit\n",
    "\n",
    "import sklearn\n",
    "from sklearn.feature_extraction import text\n",
    "from sklearn.feature_extraction.text import CountVectorizer\n",
    "from sklearn.feature_extraction.text import TfidfTransformer\n"
   ]
  },
  {
   "cell_type": "code",
   "execution_count": 3,
   "metadata": {
    "collapsed": true
   },
   "outputs": [],
   "source": [
    "#path_import = \"/Users/ppx/Desktop/\"\n",
    "#import_file = \"the_result_file.csv\"\n",
    "path = 'SMSSpamCollection.data'"
   ]
  },
  {
   "cell_type": "code",
   "execution_count": 4,
   "metadata": {
    "collapsed": true
   },
   "outputs": [],
   "source": [
    "GNB = GaussianNB()\n",
    "\n",
    "DTC = tree.DecisionTreeClassifier()\n",
    "\n",
    "ID3 = tree.DecisionTreeClassifier(criterion=\"entropy\")\n",
    "\n",
    "decision_stump = GradientBoostingClassifier(n_estimators=100,\n",
    "                                 learning_rate=1.0,\n",
    "                                 max_depth=1,\n",
    "                                 random_state=0)\n",
    "\n",
    "MLP = MLPClassifier(solver='lbfgs',\n",
    "                    alpha=1,\n",
    "                    hidden_layer_sizes=(20, 10))\n",
    "\n",
    "KNN = KNeighborsClassifier()\n",
    "\n",
    "BC = BaggingClassifier(n_estimators=50)\n",
    "\n",
    "ABC = AdaBoostClassifier(n_estimators=50,\n",
    "                         learning_rate=1.0,\n",
    "                         algorithm='SAMME.R',\n",
    "                         random_state=None)\n",
    "\n",
    "RFC = RandomForestClassifier(n_estimators=10,\n",
    "                             criterion='gini',\n",
    "                             max_depth=None,\n",
    "                             min_samples_split=2,\n",
    "                             min_samples_leaf=1,\n",
    "                             min_weight_fraction_leaf=0.0,\n",
    "                             max_features='auto',\n",
    "                             max_leaf_nodes=None,\n",
    "                             min_impurity_decrease=0.0,\n",
    "                             min_impurity_split=None,\n",
    "                             bootstrap=True,\n",
    "                             oob_score=False,\n",
    "                             n_jobs=1,\n",
    "                             random_state=None,\n",
    "                             verbose=0,\n",
    "                             warm_start=False,\n",
    "                             class_weight=None)\n",
    "\n",
    "\n",
    "\n",
    "\n",
    "max_depth=7\n",
    "learning_rate=0.05\n",
    "n_estimators=50\n",
    "gamma=0.5\n",
    "reg_alpha=0.1\n",
    "\n",
    "\n",
    "GBM = xgb.XGBClassifier(max_depth = max_depth, \n",
    "                        n_estimators = n_estimators, \n",
    "                        learning_rate = learning_rate,\n",
    "                        gamma = gamma,\n",
    "                        reg_alpha= reg_alpha)\n"
   ]
  },
  {
   "cell_type": "code",
   "execution_count": 5,
   "metadata": {
    "collapsed": true
   },
   "outputs": [],
   "source": [
    "colnames = ['Accuracy', 'AUC', 'Moyenne CV', 'Std CV','precision', 'Temps']\n",
    "algos = [GNB, KNN, DTC, ID3, BC, RFC, ABC, decision_stump, GBM]\n",
    "indexs = ['GNB', 'KNN', 'DTC', 'id3', 'BC', 'RFC', 'ABC', 'DS','GBM']\n",
    "clfs = dict()\n",
    "for x in range(len(algos)):\n",
    "    clfs[indexs[x]] = algos[x]\n",
    "\n",
    "modes = [None, 'normalized', 'min_max_ed', 'pca']"
   ]
  },
  {
   "cell_type": "markdown",
   "metadata": {},
   "source": [
    "# Mise en forme donnée"
   ]
  },
  {
   "cell_type": "code",
   "execution_count": 6,
   "metadata": {
    "collapsed": true
   },
   "outputs": [],
   "source": [
    "data = pd.read_csv(path, delimiter='\t',header=None, na_values='?')"
   ]
  },
  {
   "cell_type": "code",
   "execution_count": 7,
   "metadata": {
    "collapsed": true
   },
   "outputs": [],
   "source": [
    "mf = 500\n",
    "vectorizer = CountVectorizer(max_features=mf)\n",
    "X = vectorizer.fit_transform(data[1])\n",
    "analyze = vectorizer.build_analyzer()\n",
    "X = X.toarray()\n",
    "X = pd.DataFrame(X)"
   ]
  },
  {
   "cell_type": "code",
   "execution_count": 8,
   "metadata": {
    "collapsed": true
   },
   "outputs": [],
   "source": [
    "target = pd.DataFrame(data[0])\n",
    "target = target.replace('spam', 1)\n",
    "target = target.replace('ham', 0)\n"
   ]
  },
  {
   "cell_type": "markdown",
   "metadata": {},
   "source": [
    "# Qualité Apprentissage"
   ]
  },
  {
   "cell_type": "code",
   "execution_count": 9,
   "metadata": {
    "collapsed": true
   },
   "outputs": [],
   "source": [
    "class Qualite:\n",
    "    def __init__(self, _modele, _data, _y, _y_pred, _y_pred_proba, _cv=10, _print_mode=True):\n",
    "        \n",
    "        self.accuracy = sklearn.metrics.accuracy_score(_y, _y_pred)\n",
    "        self.AUC = sklearn.metrics.roc_auc_score(_y, _y_pred)\n",
    "        self.cross_validation = cross_val_score(_modele, _data, y=_y, cv=_cv)\n",
    "        self.moyenne = np.mean(self.cross_validation)\n",
    "        self.ecart_type = np.std(self.cross_validation)\n",
    "        self.precision = average_precision_score(_y, _y_pred)\n",
    "        \n",
    "        self.roc = ROC_curves(pred=_y_pred_proba, res=_y)\n",
    "        \n",
    "        \n",
    "        if _print_mode:\n",
    "            self.roc.plot_it()"
   ]
  },
  {
   "cell_type": "markdown",
   "metadata": {},
   "source": [
    "# ROC"
   ]
  },
  {
   "cell_type": "code",
   "execution_count": 10,
   "metadata": {
    "collapsed": true
   },
   "outputs": [],
   "source": [
    "def TP(theta, pred, result):\n",
    "    count = 0\n",
    "    i = 0\n",
    "    for x in (result):\n",
    "        if pred[i][1] > theta and x == 1:\n",
    "            count += 1\n",
    "        i += 1\n",
    "    return count\n",
    "\n",
    "\n",
    "def FP(theta, pred, result):\n",
    "    count = 0\n",
    "    i = 0\n",
    "    for x in (result):\n",
    "        if pred[i][1] >= theta and x == 0:\n",
    "            count += 1\n",
    "        i += 1\n",
    "    return count\n",
    "\n",
    "\n",
    "def TN(theta, pred, result):\n",
    "    count = 0\n",
    "    i = 0\n",
    "    for x in (result):\n",
    "        if pred[i][1] < theta and x == 0:\n",
    "            count += 1\n",
    "        i += 1\n",
    "    return count\n",
    "\n",
    "\n",
    "def FN(theta, pred, result):\n",
    "    count = 0\n",
    "    i = 0\n",
    "    for x in (result):\n",
    "        if pred[i][1] < theta and x == 1:\n",
    "            count += 1\n",
    "        i += 1\n",
    "    return count\n",
    "\n",
    "\n",
    "class ROC_curves:\n",
    "    def __init__(self, pred, res, gran = 101):\n",
    "        x = []\n",
    "        y = []\n",
    "        for j in range(0,gran):\n",
    "            tn = TN(j/(gran-1),pred,res)\n",
    "            neg = tn + FP(j/(gran-1),pred,res)\n",
    "            tp = TP(j/(gran-1),pred,res)\n",
    "            pos = tp + FN(j/(gran-1),pred,res)\n",
    "\n",
    "            if neg == 0:\n",
    "                x.append(0)\n",
    "            else:\n",
    "                x.append(tn / neg)\n",
    "            if pos == 0:\n",
    "                y.append(0)\n",
    "            else:\n",
    "                y.append(tp / pos)\n",
    "      \n",
    "        self.rocx = x\n",
    "        self.rocy = y\n",
    "    def plot_it(self):\n",
    "        plt.plot(self.rocx,self.rocy)\n",
    "        plt.show()"
   ]
  },
  {
   "cell_type": "markdown",
   "metadata": {},
   "source": [
    "# Apprentissage"
   ]
  },
  {
   "cell_type": "code",
   "execution_count": 11,
   "metadata": {
    "collapsed": true
   },
   "outputs": [],
   "source": [
    "def algo_apprentissage(mod, data, target, print_mode=True, cv=10):\n",
    "    \n",
    "    X_train, X_test, y_train, y_test = train_test_split(data, \n",
    "                                                    target, \n",
    "                                                    test_size=0.2, \n",
    "                                                    random_state=42)\n",
    "    result = dict()\n",
    "    mod_fit = mod.fit(X_train, y_train)\n",
    "    y_prediction_proba = mod_fit.predict_proba(X_test)\n",
    "    y_prediction = mod_fit.predict(X_test)\n",
    "    q_mod = Qualite(_modele=mod,\n",
    "                 _data=X_test,\n",
    "                 _y=y_test,\n",
    "                 _y_pred=y_prediction,\n",
    "                 _y_pred_proba=y_prediction_proba,\n",
    "                 _print_mode=print_mode,\n",
    "                 _cv=cv)\n",
    "    \n",
    "    result['y_prediction_proba'] = y_prediction_proba\n",
    "    result['y_prediction'] = y_prediction\n",
    "    result['q_mod'] = q_mod\n",
    "    \n",
    "    if print_mode:\n",
    "        print('La précision est ' + str(q_mod.accuracy))\n",
    "        print('')\n",
    "        print('L\\'AUC est ' + str(q_mod.AUC))\n",
    "        print('')\n",
    "        print('Le score moyen par ' + str(cv) + ' cross-validation est ' + str(q_mod.moyenne))\n",
    "    \n",
    "    return result"
   ]
  },
  {
   "cell_type": "markdown",
   "metadata": {},
   "source": [
    "# Parametres XGOOST"
   ]
  },
  {
   "cell_type": "code",
   "execution_count": 12,
   "metadata": {
    "collapsed": true
   },
   "outputs": [],
   "source": [
    "def param_XGB(data,\n",
    "              target,\n",
    "              max_depths=[10,50,100],\n",
    "              learning_rates=[0.1,0.01],\n",
    "              n_estimatorss=[50,100],\n",
    "              sound_alarm=True):\n",
    "    gamma=0.5\n",
    "    reg_alpha=0.1\n",
    "    colonnes = ['max_depth', 'learning_rates', 'n_estimators', 'score_moyen', 'qualite']\n",
    "    result = pd.DataFrame(columns=colonnes)\n",
    "    \n",
    "    for md in max_depths:\n",
    "        for lr in learning_rates:\n",
    "            for ne in n_estimatorss:\n",
    "                GBM = xgb.XGBClassifier(max_depth = md, \n",
    "                        n_estimators = ne, \n",
    "                        learning_rate = lr,\n",
    "                        gamma = gamma,\n",
    "                        reg_alpha= reg_alpha)\n",
    "                apprentissage = algo_apprentissage(mod=GBM, data=data, target=target, print_mode=False)\n",
    "                event = pd.DataFrame([[md, lr, ne, apprentissage['q_mod'].moyenne, apprentissage['q_mod']]], columns=colonnes)\n",
    "                result = result.append(event)\n",
    "                \n",
    "    if sound_alarm:\n",
    "        os.system('say \"done\"')\n",
    "        \n",
    "    result = result.reset_index()\n",
    "    return result\n",
    "\n",
    "# Attention, cette fonction mets du temps\n",
    "#table_param = param_XGB(data=X, target=target)"
   ]
  },
  {
   "cell_type": "markdown",
   "metadata": {},
   "source": [
    "# Transformation PCA"
   ]
  },
  {
   "cell_type": "code",
   "execution_count": 13,
   "metadata": {
    "collapsed": true
   },
   "outputs": [],
   "source": [
    "def pca_transform(data, target, variance=0.7, print_mode=True, normalized=True, min_max_ed=False):\n",
    "    if normalized:\n",
    "        scaler = StandardScaler()\n",
    "        data = scaler.fit_transform(data)\n",
    "    elif min_max_ed:\n",
    "        scaler = MinMaxScaler()\n",
    "        data = scaler.fit_transform(data)\n",
    "        \n",
    "        \n",
    "    for x in range(len(data[0])):\n",
    "        pca = PCA(n_components=x)\n",
    "        pca.fit(data)\n",
    "        if sum(pca.explained_variance_ratio_) > variance:## and x >1:\n",
    "            if print_mode:\n",
    "                print('Hello World')\n",
    "            break\n",
    "    X_pca = pca.fit_transform(data)\n",
    "    if print_mode:\n",
    "        plt.scatter(X_pca[:, 0], X_pca[:, 1])\n",
    "        plt.show()\n",
    "        plt.close()\n",
    "    return [pca, X_pca]\n",
    "        \n",
    "        \n",
    "#pca_data = pca_transform(data=data['cleaned_data'], target=data['target'], normalized=True, print_mode=False)\n",
    "\n",
    "\n"
   ]
  },
  {
   "cell_type": "code",
   "execution_count": 14,
   "metadata": {
    "collapsed": true
   },
   "outputs": [],
   "source": [
    "def plot_learning_curve(estimator, title, X, y, ylim=(0.7, 1.01), cvalidation=None,\n",
    "                        n_jobs=4, train_sizes=np.linspace(.1, 1.0, 5), print_mode=True):\n",
    "    \"\"\"\n",
    "    Generate a simple plot of the test and training learning curve.\n",
    "\n",
    "    Parameters\n",
    "    ----------\n",
    "    estimator : object type that implements the \"fit\" and \"predict\" methods\n",
    "        An object of that type which is cloned for each validation.\n",
    "\n",
    "    title : string\n",
    "        Title for the chart.\n",
    "\n",
    "    X : array-like, shape (n_samples, n_features)\n",
    "        Training vector, where n_samples is the number of samples and\n",
    "        n_features is the number of features.\n",
    "\n",
    "    y : array-like, shape (n_samples) or (n_samples, n_features), optional\n",
    "        Target relative to X for classification or regression;\n",
    "        None for unsupervised learning.\n",
    "\n",
    "    ylim : tuple, shape (ymin, ymax), optional\n",
    "        Defines minimum and maximum yvalues plotted.\n",
    "\n",
    "    cvalidation : int, cross-validation generator or an iterable, optional\n",
    "        Determines the cross-validation splitting strategy.\n",
    "        Possible inputs for cv are:\n",
    "          - None, to use the default 3-fold cross-validation,\n",
    "          - integer, to specify the number of folds.\n",
    "          - An object to be used as a cross-validation generator.\n",
    "          - An iterable yielding train/test splits.\n",
    "\n",
    "        For integer/None inputs, if ``y`` is binary or multiclass,\n",
    "        :class:`StratifiedKFold` used. If the estimator is not a classifier\n",
    "        or if ``y`` is neither binary nor multiclass, :class:`KFold` is used.\n",
    "\n",
    "        Refer :ref:`User Guide <cross_validation>` for the various\n",
    "        cross-validators that can be used here.\n",
    "\n",
    "    n_jobs : integer, optional\n",
    "        Number of jobs to run in parallel (default 1).\n",
    "    \"\"\"\n",
    "    plt.figure()\n",
    "    plt.title(title)\n",
    "    if ylim is not None:\n",
    "        plt.ylim(*ylim)\n",
    "    plt.xlabel(\"Training examples\")\n",
    "    plt.ylabel(\"Score\")\n",
    "    train_sizes, train_scores, test_scores = learning_curve(\n",
    "        estimator, X, y, cv=cvalidation, n_jobs=n_jobs, train_sizes=train_sizes)\n",
    "    train_scores_mean = np.mean(train_scores, axis=1)\n",
    "    train_scores_std = np.std(train_scores, axis=1)\n",
    "    test_scores_mean = np.mean(test_scores, axis=1)\n",
    "    test_scores_std = np.std(test_scores, axis=1)\n",
    "    plt.grid()\n",
    "\n",
    "    plt.fill_between(train_sizes, train_scores_mean - train_scores_std,\n",
    "                     train_scores_mean + train_scores_std, alpha=0.1,\n",
    "                     color=\"r\")\n",
    "    plt.fill_between(train_sizes, test_scores_mean - test_scores_std,\n",
    "                     test_scores_mean + test_scores_std, alpha=0.1, color=\"g\")\n",
    "    plt.plot(train_sizes, train_scores_mean, 'o-', color=\"r\",\n",
    "             label=\"Training score\")\n",
    "    plt.plot(train_sizes, test_scores_mean, 'o-', color=\"g\",\n",
    "             label=\"Cross-validation score\")\n",
    "\n",
    "    plt.legend(loc=\"best\")\n",
    "    if print_mode:\n",
    "        plt.show()\n",
    "        plt.close()\n",
    "    return plt\n",
    "\n",
    "\n",
    "title = \"Learning Curves\"\n",
    "cvalidation = ShuffleSplit(n_splits=5, test_size=0.2, random_state=0)\n",
    "estimator = KNN\n",
    "# plot_learning_curve(estimator, title, X=data['cleaned_data'], y=data['target'], ylim=(0.4, 1.01), cvalidation=cvalidation, n_jobs=4)\n",
    "\n",
    "\n"
   ]
  },
  {
   "cell_type": "code",
   "execution_count": 15,
   "metadata": {
    "collapsed": true
   },
   "outputs": [],
   "source": [
    "def final_table(data,\n",
    "                target,\n",
    "                col=colnames,\n",
    "                algos=algos,\n",
    "                indexs=indexs,\n",
    "                mode=None,\n",
    "               print_mode=True):\n",
    "    if mode is None:\n",
    "        pass\n",
    "    elif mode == 'normalized':\n",
    "        scaler = StandardScaler()\n",
    "        scaler.fit(data)\n",
    "        data = scaler.transform(data)\n",
    "    elif mode == 'min_max_ed':\n",
    "        scaler = MinMaxScaler()\n",
    "        scaler.fit(data)\n",
    "        data = scaler.transform(data)\n",
    "    elif mode == 'pca':\n",
    "        data = pca_transform(data=data,\n",
    "                             target=target,\n",
    "                                 normalized=True,\n",
    "                                 print_mode=False)[1]\n",
    "\n",
    "\n",
    "    result = []\n",
    "    for alg in algos:\n",
    "        t1 = time.time()\n",
    "        res_algo = algo_apprentissage(alg, data=data, target=target, print_mode=print_mode)\n",
    "        t2 = time.time()\n",
    "        delta_t = t2 - t1\n",
    "        ajout = [res_algo['q_mod'].accuracy, \n",
    "                 res_algo['q_mod'].AUC, \n",
    "                 res_algo['q_mod'].moyenne, \n",
    "                 res_algo['q_mod'].ecart_type, \n",
    "                 res_algo['q_mod'].precision,\n",
    "                 delta_t]\n",
    "        result.append(ajout)\n",
    "        if print_mode:\n",
    "            cvalidation = ShuffleSplit(n_splits=100, test_size=0.2, random_state=0)\n",
    "            plot_learning_curve(alg, 'str(alg)', X=data, y=target, ylim=(0.4, 1.01), cvalidation=cvalidation, n_jobs=4)\n",
    "\n",
    "\n",
    "\n",
    "    result = pd.DataFrame(result, columns=colnames, index=indexs)\n",
    "    return result\n",
    "\n"
   ]
  },
  {
   "cell_type": "code",
   "execution_count": 16,
   "metadata": {
    "collapsed": true
   },
   "outputs": [],
   "source": [
    "def comparisons_tables(data, target, modes=modes, print_mode=True):\n",
    "    tables = dict()\n",
    "    for mode in modes:\n",
    "        event = dict()\n",
    "        tables[str(mode)] = final_table(data=data, target=target, mode=mode, print_mode=print_mode)\n",
    "    \n",
    "    return tables"
   ]
  },
  {
   "cell_type": "code",
   "execution_count": 17,
   "metadata": {},
   "outputs": [
    {
     "data": {
      "text/plain": [
       "(5572, 1)"
      ]
     },
     "execution_count": 17,
     "metadata": {},
     "output_type": "execute_result"
    }
   ],
   "source": [
    "target.shape"
   ]
  },
  {
   "cell_type": "code",
   "execution_count": 18,
   "metadata": {
    "collapsed": true
   },
   "outputs": [],
   "source": [
    "target_bis = target.values.reshape(5572,)"
   ]
  },
  {
   "cell_type": "code",
   "execution_count": 19,
   "metadata": {
    "collapsed": true
   },
   "outputs": [],
   "source": [
    "# Attention, cela prend beaucoup de temps\n",
    "final = final_table(X, target_bis, print_mode=False)"
   ]
  },
  {
   "cell_type": "code",
   "execution_count": 20,
   "metadata": {},
   "outputs": [
    {
     "data": {
      "text/html": [
       "<div>\n",
       "<style>\n",
       "    .dataframe thead tr:only-child th {\n",
       "        text-align: right;\n",
       "    }\n",
       "\n",
       "    .dataframe thead th {\n",
       "        text-align: left;\n",
       "    }\n",
       "\n",
       "    .dataframe tbody tr th {\n",
       "        vertical-align: top;\n",
       "    }\n",
       "</style>\n",
       "<table border=\"1\" class=\"dataframe\">\n",
       "  <thead>\n",
       "    <tr style=\"text-align: right;\">\n",
       "      <th></th>\n",
       "      <th>Accuracy</th>\n",
       "      <th>AUC</th>\n",
       "      <th>Moyenne CV</th>\n",
       "      <th>Std CV</th>\n",
       "      <th>precision</th>\n",
       "      <th>Temps</th>\n",
       "    </tr>\n",
       "  </thead>\n",
       "  <tbody>\n",
       "    <tr>\n",
       "      <th>GNB</th>\n",
       "      <td>0.684305</td>\n",
       "      <td>0.800777</td>\n",
       "      <td>0.844882</td>\n",
       "      <td>0.020545</td>\n",
       "      <td>0.286039</td>\n",
       "      <td>0.448131</td>\n",
       "    </tr>\n",
       "    <tr>\n",
       "      <th>KNN</th>\n",
       "      <td>0.938117</td>\n",
       "      <td>0.771294</td>\n",
       "      <td>0.892381</td>\n",
       "      <td>0.014901</td>\n",
       "      <td>0.597981</td>\n",
       "      <td>10.530830</td>\n",
       "    </tr>\n",
       "    <tr>\n",
       "      <th>DTC</th>\n",
       "      <td>0.966816</td>\n",
       "      <td>0.926925</td>\n",
       "      <td>0.955180</td>\n",
       "      <td>0.015438</td>\n",
       "      <td>0.783411</td>\n",
       "      <td>1.608374</td>\n",
       "    </tr>\n",
       "    <tr>\n",
       "      <th>id3</th>\n",
       "      <td>0.974888</td>\n",
       "      <td>0.940098</td>\n",
       "      <td>0.957866</td>\n",
       "      <td>0.015964</td>\n",
       "      <td>0.833095</td>\n",
       "      <td>1.062903</td>\n",
       "    </tr>\n",
       "    <tr>\n",
       "      <th>BC</th>\n",
       "      <td>0.972197</td>\n",
       "      <td>0.941383</td>\n",
       "      <td>0.958775</td>\n",
       "      <td>0.020389</td>\n",
       "      <td>0.816853</td>\n",
       "      <td>18.463195</td>\n",
       "    </tr>\n",
       "    <tr>\n",
       "      <th>RFC</th>\n",
       "      <td>0.982063</td>\n",
       "      <td>0.944238</td>\n",
       "      <td>0.965041</td>\n",
       "      <td>0.010878</td>\n",
       "      <td>0.880905</td>\n",
       "      <td>0.715995</td>\n",
       "    </tr>\n",
       "    <tr>\n",
       "      <th>ABC</th>\n",
       "      <td>0.973991</td>\n",
       "      <td>0.928228</td>\n",
       "      <td>0.956990</td>\n",
       "      <td>0.014833</td>\n",
       "      <td>0.827246</td>\n",
       "      <td>3.635398</td>\n",
       "    </tr>\n",
       "    <tr>\n",
       "      <th>DS</th>\n",
       "      <td>0.919283</td>\n",
       "      <td>0.820025</td>\n",
       "      <td>0.920221</td>\n",
       "      <td>0.021997</td>\n",
       "      <td>0.523708</td>\n",
       "      <td>5.461276</td>\n",
       "    </tr>\n",
       "    <tr>\n",
       "      <th>GBM</th>\n",
       "      <td>0.973991</td>\n",
       "      <td>0.916875</td>\n",
       "      <td>0.959692</td>\n",
       "      <td>0.016016</td>\n",
       "      <td>0.828184</td>\n",
       "      <td>14.590600</td>\n",
       "    </tr>\n",
       "  </tbody>\n",
       "</table>\n",
       "</div>"
      ],
      "text/plain": [
       "     Accuracy       AUC  Moyenne CV    Std CV  precision      Temps\n",
       "GNB  0.684305  0.800777    0.844882  0.020545   0.286039   0.448131\n",
       "KNN  0.938117  0.771294    0.892381  0.014901   0.597981  10.530830\n",
       "DTC  0.966816  0.926925    0.955180  0.015438   0.783411   1.608374\n",
       "id3  0.974888  0.940098    0.957866  0.015964   0.833095   1.062903\n",
       "BC   0.972197  0.941383    0.958775  0.020389   0.816853  18.463195\n",
       "RFC  0.982063  0.944238    0.965041  0.010878   0.880905   0.715995\n",
       "ABC  0.973991  0.928228    0.956990  0.014833   0.827246   3.635398\n",
       "DS   0.919283  0.820025    0.920221  0.021997   0.523708   5.461276\n",
       "GBM  0.973991  0.916875    0.959692  0.016016   0.828184  14.590600"
      ]
     },
     "execution_count": 20,
     "metadata": {},
     "output_type": "execute_result"
    }
   ],
   "source": [
    "final\n"
   ]
  },
  {
   "cell_type": "code",
   "execution_count": 21,
   "metadata": {
    "collapsed": true
   },
   "outputs": [],
   "source": [
    "transformer = TfidfTransformer(smooth_idf=False)"
   ]
  },
  {
   "cell_type": "code",
   "execution_count": 22,
   "metadata": {
    "collapsed": true
   },
   "outputs": [],
   "source": [
    "tfidf = transformer.fit_transform(X)"
   ]
  },
  {
   "cell_type": "code",
   "execution_count": null,
   "metadata": {
    "collapsed": true
   },
   "outputs": [],
   "source": [
    "transformer = TfidfTransformer()\n",
    "tfidf = pd.DataFrame(transformer.fit_transform(X).toarray())"
   ]
  },
  {
   "cell_type": "code",
   "execution_count": null,
   "metadata": {
    "scrolled": true
   },
   "outputs": [
    {
     "data": {
      "image/png": "[encoded data removed]",
      "text/plain": [
       "<matplotlib.figure.Figure at 0x1a1164dda0>"
      ]
     },
     "metadata": {},
     "output_type": "display_data"
    },
    {
     "name": "stdout",
     "output_type": "stream",
     "text": [
      "La précision est 0.745291479821\n",
      "\n",
      "L'AUC est 0.827459113205\n",
      "\n",
      "Le score moyen par 10 cross-validation est 0.842186878437\n"
     ]
    },
    {
     "data": {
      "image/png": "[encoded data removed]",
      "text/plain": [
       "<matplotlib.figure.Figure at 0x1a1164dba8>"
      ]
     },
     "metadata": {},
     "output_type": "display_data"
    },
    {
     "data": {
      "image/png": "[encoded data removed]",
      "text/plain": [
       "<matplotlib.figure.Figure at 0x104a77a58>"
      ]
     },
     "metadata": {},
     "output_type": "display_data"
    },
    {
     "name": "stdout",
     "output_type": "stream",
     "text": [
      "La précision est 0.942600896861\n",
      "\n",
      "L'AUC est 0.788073005683\n",
      "\n",
      "Le score moyen par 10 cross-validation est 0.880692786943\n"
     ]
    }
   ],
   "source": [
    "final_tfidf = final_table(tfidf, target_bis, print_mode=False)\n",
    "comparaison_tfidf = comparisons_tables(tfidf,target=target_bis)"
   ]
  },
  {
   "cell_type": "code",
   "execution_count": null,
   "metadata": {
    "collapsed": true
   },
   "outputs": [],
   "source": []
  },
  {
   "cell_type": "code",
   "execution_count": null,
   "metadata": {
    "collapsed": true
   },
   "outputs": [],
   "source": [
    "from sklearn.decomposition import TruncatedSVD\n",
    "from sklearn.random_projection import sparse_random_matrix"
   ]
  },
  {
   "cell_type": "code",
   "execution_count": null,
   "metadata": {
    "collapsed": true
   },
   "outputs": [],
   "source": [
    "nc = 100\n",
    "\n",
    "svd = TruncatedSVD(n_components=nc, n_iter=10, random_state=42)\n",
    "svd.fit(tfidf) \n",
    "SVD = pd.DataFrame(svd.transform(tfidf))\n",
    "\n"
   ]
  },
  {
   "cell_type": "code",
   "execution_count": null,
   "metadata": {
    "collapsed": true,
    "scrolled": true
   },
   "outputs": [],
   "source": [
    "final_svd = final_table(SVD, target, print_mode=False)"
   ]
  },
  {
   "cell_type": "code",
   "execution_count": null,
   "metadata": {},
   "outputs": [],
   "source": [
    "final_svd"
   ]
  },
  {
   "cell_type": "markdown",
   "metadata": {
    "collapsed": true
   },
   "source": [
    "Finalement on voit que faire les transformations proposées ne sont pas si performantes que cela.\n",
    "\n",
    "Cela est surement du à la relative petite taille de notre jeu de données.\n",
    "\n",
    "De plus cela est bien plus facilement interprétable.\n",
    "\n"
   ]
  },
  {
   "cell_type": "code",
   "execution_count": null,
   "metadata": {
    "collapsed": true
   },
   "outputs": [],
   "source": []
  },
  {
   "cell_type": "code",
   "execution_count": null,
   "metadata": {
    "collapsed": true
   },
   "outputs": [],
   "source": []
  },
  {
   "cell_type": "code",
   "execution_count": null,
   "metadata": {
    "collapsed": true
   },
   "outputs": [],
   "source": []
  },
  {
   "cell_type": "code",
   "execution_count": null,
   "metadata": {
    "collapsed": true
   },
   "outputs": [],
   "source": []
  }
 ],
 "metadata": {
  "kernelspec": {
   "display_name": "Python 3",
   "language": "python",
   "name": "python3"
  },
  "language_info": {
   "codemirror_mode": {
    "name": "ipython",
    "version": 3
   },
   "file_extension": ".py",
   "mimetype": "text/x-python",
   "name": "python",
   "nbconvert_exporter": "python",
   "pygments_lexer": "ipython3",
   "version": "3.6.0"
  }
 },
 "nbformat": 4,
 "nbformat_minor": 2
}
